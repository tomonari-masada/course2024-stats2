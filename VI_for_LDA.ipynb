{
  "cells": [
    {
      "cell_type": "markdown",
      "metadata": {
        "id": "view-in-github",
        "colab_type": "text"
      },
      "source": [
        "<a href=\"https://colab.research.google.com/github/tomonari-masada/course2024-stats2/blob/main/VI_for_LDA.ipynb\" target=\"_parent\"><img src=\"https://colab.research.google.com/assets/colab-badge.svg\" alt=\"Open In Colab\"/></a>"
      ]
    },
    {
      "cell_type": "markdown",
      "metadata": {
        "id": "Eh6bdq-R91lZ"
      },
      "source": [
        "# Variational inference for latent Dirichlet allocation"
      ]
    },
    {
      "cell_type": "code",
      "execution_count": null,
      "metadata": {
        "id": "tTpehydK91lb"
      },
      "outputs": [],
      "source": [
        "from tqdm.auto import tqdm\n",
        "from sklearn.feature_extraction.text import CountVectorizer\n",
        "import torch\n",
        "import transformers\n",
        "from datasets import load_dataset\n",
        "\n",
        "transformers.set_seed(1234)\n",
        "\n",
        "device = \"cuda:0\""
      ]
    },
    {
      "cell_type": "markdown",
      "metadata": {
        "id": "bd0NJ8IR91lc"
      },
      "source": [
        "* https://huggingface.co/datasets/dell-research-harvard/newswire"
      ]
    },
    {
      "cell_type": "markdown",
      "metadata": {
        "id": "-oIbjIU791lc"
      },
      "source": [
        "### データセットの取得"
      ]
    },
    {
      "cell_type": "code",
      "execution_count": null,
      "metadata": {
        "id": "pt4Q-1lm91ld",
        "outputId": "08f333e6-4d3c-485c-fd6e-af24bfc63961",
        "colab": {
          "referenced_widgets": [
            "53be461affed4c3e954ca8b73a7e26f0",
            "2c8a32f34883414c998a1490556de16c"
          ]
        }
      },
      "outputs": [
        {
          "data": {
            "application/vnd.jupyter.widget-view+json": {
              "model_id": "53be461affed4c3e954ca8b73a7e26f0",
              "version_major": 2,
              "version_minor": 0
            },
            "text/plain": [
              "Resolving data files:   0%|          | 0/100 [00:00<?, ?it/s]"
            ]
          },
          "metadata": {},
          "output_type": "display_data"
        },
        {
          "data": {
            "application/vnd.jupyter.widget-view+json": {
              "model_id": "2c8a32f34883414c998a1490556de16c",
              "version_major": 2,
              "version_minor": 0
            },
            "text/plain": [
              "Loading dataset shards:   0%|          | 0/23 [00:00<?, ?it/s]"
            ]
          },
          "metadata": {},
          "output_type": "display_data"
        }
      ],
      "source": [
        "ds = load_dataset(\"dell-research-harvard/newswire\")"
      ]
    },
    {
      "cell_type": "markdown",
      "metadata": {
        "id": "Wxmev7iv91ld"
      },
      "source": [
        "* 文書数を調べる。"
      ]
    },
    {
      "cell_type": "code",
      "execution_count": null,
      "metadata": {
        "id": "1SjOsO5I91ld",
        "outputId": "fa8439e7-70f8-433a-b76f-c9fb1d4b2a31"
      },
      "outputs": [
        {
          "data": {
            "text/plain": [
              "2719607"
            ]
          },
          "execution_count": 3,
          "metadata": {},
          "output_type": "execute_result"
        }
      ],
      "source": [
        "len(ds[\"train\"][\"article\"])"
      ]
    },
    {
      "cell_type": "markdown",
      "metadata": {
        "id": "O-tGosh591le"
      },
      "source": [
        "### データセットの準備\n",
        "* データセットが大きいので1/50だけ使う。"
      ]
    },
    {
      "cell_type": "code",
      "execution_count": null,
      "metadata": {
        "id": "AyrgX_9X91le",
        "outputId": "b1a69a9c-33f3-4af3-b2c2-caaff8b19e89"
      },
      "outputs": [
        {
          "name": "stdout",
          "output_type": "stream",
          "text": [
            "54393 documents\n"
          ]
        }
      ],
      "source": [
        "corpus = ds[\"train\"][\"article\"][::50]\n",
        "num_docs = len(corpus)\n",
        "print(f\"{num_docs} documents\")"
      ]
    },
    {
      "cell_type": "markdown",
      "metadata": {
        "id": "biuwvhlo91le"
      },
      "source": [
        "* 語彙セットの作成と出現回数の取得"
      ]
    },
    {
      "cell_type": "code",
      "execution_count": null,
      "metadata": {
        "id": "pBRvhHbk91le"
      },
      "outputs": [],
      "source": [
        "vectorizer = CountVectorizer(stop_words=\"english\", min_df=0.001, max_df=0.2)\n",
        "X = vectorizer.fit_transform(corpus)\n",
        "vocab = vectorizer.get_feature_names_out()"
      ]
    },
    {
      "cell_type": "code",
      "execution_count": null,
      "metadata": {
        "id": "uqFA3I7491le",
        "outputId": "f258dbb4-f4e3-4fba-9b36-6a49d4d3a99f"
      },
      "outputs": [
        {
          "name": "stdout",
          "output_type": "stream",
          "text": [
            "10140 different words\n"
          ]
        }
      ],
      "source": [
        "num_words = len(vocab)\n",
        "print(f\"{num_words} different words\")"
      ]
    },
    {
      "cell_type": "markdown",
      "metadata": {
        "id": "DcCTbjjL91lf"
      },
      "source": [
        "### 事前分布のパラメータの設定"
      ]
    },
    {
      "cell_type": "code",
      "execution_count": null,
      "metadata": {
        "id": "TcVjLGrS91lf"
      },
      "outputs": [],
      "source": [
        "num_topics = 50\n",
        "alpha = torch.ones((1, num_topics), device=device) / num_topics"
      ]
    },
    {
      "cell_type": "code",
      "execution_count": null,
      "metadata": {
        "id": "0q7kvFvn91lf",
        "outputId": "a160d5a6-666b-45fc-dd9d-2f135a0efa60"
      },
      "outputs": [
        {
          "data": {
            "text/plain": [
              "tensor([[0.0200, 0.0200, 0.0200, 0.0200, 0.0200, 0.0200, 0.0200, 0.0200, 0.0200,\n",
              "         0.0200, 0.0200, 0.0200, 0.0200, 0.0200, 0.0200, 0.0200, 0.0200, 0.0200,\n",
              "         0.0200, 0.0200, 0.0200, 0.0200, 0.0200, 0.0200, 0.0200, 0.0200, 0.0200,\n",
              "         0.0200, 0.0200, 0.0200, 0.0200, 0.0200, 0.0200, 0.0200, 0.0200, 0.0200,\n",
              "         0.0200, 0.0200, 0.0200, 0.0200, 0.0200, 0.0200, 0.0200, 0.0200, 0.0200,\n",
              "         0.0200, 0.0200, 0.0200, 0.0200, 0.0200]], device='cuda:0')"
            ]
          },
          "execution_count": 8,
          "metadata": {},
          "output_type": "execute_result"
        }
      ],
      "source": [
        "alpha"
      ]
    },
    {
      "cell_type": "markdown",
      "metadata": {
        "id": "pvn7IpDS91lf"
      },
      "source": [
        "### 事後分布のパラメータの初期化"
      ]
    },
    {
      "cell_type": "code",
      "execution_count": null,
      "metadata": {
        "id": "IjCe8nrP91lf",
        "outputId": "5fe9220a-efc5-4cc6-b5a8-2a0c645c2f0c",
        "colab": {
          "referenced_widgets": [
            "38a78a620e07473eaa63caad683021d2"
          ]
        }
      },
      "outputs": [
        {
          "data": {
            "application/vnd.jupyter.widget-view+json": {
              "model_id": "38a78a620e07473eaa63caad683021d2",
              "version_major": 2,
              "version_minor": 0
            },
            "text/plain": [
              "  0%|          | 0/55 [00:00<?, ?it/s]"
            ]
          },
          "metadata": {},
          "output_type": "display_data"
        }
      ],
      "source": [
        "zeta = torch.zeros((num_docs, num_topics), device=device)\n",
        "phi = torch.zeros((num_words, num_topics), device=device)\n",
        "\n",
        "batch_size = 1000\n",
        "for i in tqdm(range(0, num_docs, batch_size)):\n",
        "  sub_X = torch.tensor(X[i:i+batch_size,:].toarray(), device=device)\n",
        "  q = torch.randn((sub_X.shape[0], num_words, num_topics), device=device)\n",
        "  q = torch.softmax(q, dim=-1)\n",
        "  zeta[i:i+batch_size,:] = alpha + (sub_X.unsqueeze(-1) * q).sum(1)\n",
        "  phi += (sub_X.unsqueeze(-1) * q).sum(0)\n",
        "phi /= phi.sum(0, keepdim=True)"
      ]
    },
    {
      "cell_type": "code",
      "execution_count": null,
      "metadata": {
        "id": "S7M7iNkq91lf",
        "outputId": "91b76059-d4ee-4e82-cefd-b8d0948dcfd5"
      },
      "outputs": [
        {
          "name": "stdout",
          "output_type": "stream",
          "text": [
            "555.0 554\n"
          ]
        }
      ],
      "source": [
        "print(zeta[0].sum().item(), X[0].sum())"
      ]
    },
    {
      "cell_type": "code",
      "execution_count": null,
      "metadata": {
        "id": "AI61bs3A91lg",
        "outputId": "bcc63df8-f5e3-4b6c-cad1-e605540d5802"
      },
      "outputs": [
        {
          "data": {
            "text/plain": [
              "tensor([1.0000, 1.0000, 1.0000, 1.0000, 1.0000, 1.0000, 1.0000, 1.0000, 1.0000,\n",
              "        1.0000, 1.0000, 1.0000, 1.0000, 1.0000, 1.0000, 1.0000, 1.0000, 1.0000,\n",
              "        1.0000, 1.0000, 1.0000, 1.0000, 1.0000, 1.0000, 1.0000, 1.0000, 1.0000,\n",
              "        1.0000, 1.0000, 1.0000, 1.0000, 1.0000, 1.0000, 1.0000, 1.0000, 1.0000,\n",
              "        1.0000, 1.0000, 1.0000, 1.0000, 1.0000, 1.0000, 1.0000, 1.0000, 1.0000,\n",
              "        1.0000, 1.0000, 1.0000, 1.0000, 1.0000], device='cuda:0')"
            ]
          },
          "execution_count": 11,
          "metadata": {},
          "output_type": "execute_result"
        }
      ],
      "source": [
        "phi.sum(0)"
      ]
    },
    {
      "cell_type": "markdown",
      "metadata": {
        "id": "h1YZo_iU91lg"
      },
      "source": [
        "### perplexityを算出するヘルパ関数"
      ]
    },
    {
      "cell_type": "code",
      "execution_count": null,
      "metadata": {
        "id": "ARDxcpt-91lg"
      },
      "outputs": [],
      "source": [
        "def compute_perplexity(quiet=False):\n",
        "  batch_size = 1000\n",
        "  perplexity = 0.0\n",
        "  num_tokens = 0\n",
        "  for i in tqdm(range(0, X.shape[0], batch_size), disable=quiet):\n",
        "    sub_X = torch.tensor(X[i:i+batch_size,:].toarray(), device=device)\n",
        "    normalized_zeta = (\n",
        "      zeta[i:i+batch_size,:]\n",
        "      / zeta[i:i+batch_size,:].sum(-1, keepdim=True)\n",
        "    )\n",
        "    word_prob = (phi.unsqueeze(0) * normalized_zeta.unsqueeze(1)).sum(-1)\n",
        "    perplexity += (sub_X * torch.log(1e-10 + word_prob)).sum()\n",
        "    num_tokens += sub_X.sum()\n",
        "  perplexity = torch.exp(- perplexity / num_tokens).item()\n",
        "  return perplexity"
      ]
    },
    {
      "cell_type": "code",
      "execution_count": null,
      "metadata": {
        "id": "0D-bGk6U91lg",
        "outputId": "aed969d9-3185-4e2e-b44d-b33b296a6c40",
        "colab": {
          "referenced_widgets": [
            "ada6571dcd2a423f82832224f631fa94"
          ]
        }
      },
      "outputs": [
        {
          "data": {
            "application/vnd.jupyter.widget-view+json": {
              "model_id": "ada6571dcd2a423f82832224f631fa94",
              "version_major": 2,
              "version_minor": 0
            },
            "text/plain": [
              "  0%|          | 0/55 [00:00<?, ?it/s]"
            ]
          },
          "metadata": {},
          "output_type": "display_data"
        },
        {
          "name": "stdout",
          "output_type": "stream",
          "text": [
            "perplexity = 4260.828\n"
          ]
        }
      ],
      "source": [
        "perplexity = compute_perplexity()\n",
        "print(f\"perplexity = {perplexity:.3f}\")"
      ]
    },
    {
      "cell_type": "markdown",
      "metadata": {
        "id": "N3HYgnle91lg"
      },
      "source": [
        "### 事後分布のパラメータを更新するヘルパ関数"
      ]
    },
    {
      "cell_type": "code",
      "execution_count": null,
      "metadata": {
        "id": "zYo44tJZ91lg"
      },
      "outputs": [],
      "source": [
        "def update(phi, quiet=False):\n",
        "  batch_size = 1000\n",
        "  new_phi = torch.zeros((num_words, num_topics), device=device)\n",
        "  for i in tqdm(range(0, num_docs, batch_size), disable=quiet):\n",
        "    sub_X = torch.tensor(X[i:i+batch_size,:].toarray(), device=device)\n",
        "    for _ in range(3):\n",
        "      q = (\n",
        "        phi.unsqueeze(0)\n",
        "        * torch.exp(torch.digamma(zeta[i:i+batch_size,:])).unsqueeze(1)\n",
        "      )\n",
        "      q /= q.sum(-1, keepdim=True)\n",
        "      zeta[i:i+batch_size,:] = alpha + (sub_X.unsqueeze(-1) * q).sum(1)\n",
        "    new_phi += (sub_X.unsqueeze(-1) * q).sum(0)\n",
        "  return new_phi / new_phi.sum(0, keepdim=True)"
      ]
    },
    {
      "cell_type": "code",
      "execution_count": null,
      "metadata": {
        "id": "HSbVzTZl91lg",
        "outputId": "a65693de-d20b-459b-a17b-f09c71b7663b",
        "colab": {
          "referenced_widgets": [
            "2864cf2d0ea04b38abfd545cc2cbec8e",
            "5e9156f9621049b1b22fae91260378f6"
          ]
        }
      },
      "outputs": [
        {
          "data": {
            "application/vnd.jupyter.widget-view+json": {
              "model_id": "2864cf2d0ea04b38abfd545cc2cbec8e",
              "version_major": 2,
              "version_minor": 0
            },
            "text/plain": [
              "  0%|          | 0/55 [00:00<?, ?it/s]"
            ]
          },
          "metadata": {},
          "output_type": "display_data"
        },
        {
          "data": {
            "application/vnd.jupyter.widget-view+json": {
              "model_id": "5e9156f9621049b1b22fae91260378f6",
              "version_major": 2,
              "version_minor": 0
            },
            "text/plain": [
              "  0%|          | 0/55 [00:00<?, ?it/s]"
            ]
          },
          "metadata": {},
          "output_type": "display_data"
        },
        {
          "name": "stdout",
          "output_type": "stream",
          "text": [
            "perplexity = 4254.392\n"
          ]
        }
      ],
      "source": [
        "phi = update(phi)\n",
        "perplexity = compute_perplexity()\n",
        "print(f\"perplexity = {perplexity:.3f}\")"
      ]
    },
    {
      "cell_type": "code",
      "execution_count": null,
      "metadata": {
        "id": "fHXcr0yk91lh",
        "outputId": "58631e60-4994-40e8-cabb-07e793e85ec7"
      },
      "outputs": [
        {
          "name": "stdout",
          "output_type": "stream",
          "text": [
            "epoch 2 | perplexity = 4231.360\n",
            "epoch 3 | perplexity = 4182.535\n",
            "epoch 4 | perplexity = 4093.403\n",
            "epoch 5 | perplexity = 3935.176\n",
            "epoch 6 | perplexity = 3668.212\n",
            "epoch 7 | perplexity = 3344.582\n",
            "epoch 8 | perplexity = 3106.495\n",
            "epoch 9 | perplexity = 2969.667\n",
            "epoch 10 | perplexity = 2890.713\n",
            "epoch 11 | perplexity = 2842.496\n",
            "epoch 12 | perplexity = 2811.491\n",
            "epoch 13 | perplexity = 2790.680\n",
            "epoch 14 | perplexity = 2776.213\n",
            "epoch 15 | perplexity = 2765.849\n",
            "epoch 16 | perplexity = 2758.223\n",
            "epoch 17 | perplexity = 2752.499\n",
            "epoch 18 | perplexity = 2748.121\n",
            "epoch 19 | perplexity = 2744.726\n",
            "epoch 20 | perplexity = 2742.044\n",
            "epoch 21 | perplexity = 2739.886\n",
            "epoch 22 | perplexity = 2738.138\n",
            "epoch 23 | perplexity = 2736.711\n",
            "epoch 24 | perplexity = 2735.539\n",
            "epoch 25 | perplexity = 2734.565\n",
            "epoch 26 | perplexity = 2733.754\n",
            "epoch 27 | perplexity = 2733.056\n",
            "epoch 28 | perplexity = 2732.463\n",
            "epoch 29 | perplexity = 2731.952\n",
            "epoch 30 | perplexity = 2731.514\n"
          ]
        }
      ],
      "source": [
        "for epoch in range(2, 21):\n",
        "  phi = update(phi, quiet=True)\n",
        "  perplexity = compute_perplexity(quiet=True)\n",
        "  print(f\"epoch {epoch} | perplexity = {perplexity:.3f}\")"
      ]
    },
    {
      "cell_type": "markdown",
      "metadata": {
        "id": "o9g1T8Xa91lh"
      },
      "source": [
        "### トピック語の表示"
      ]
    },
    {
      "cell_type": "code",
      "execution_count": null,
      "metadata": {
        "id": "C0-OSKUB91lh",
        "outputId": "2bd4c7a1-459f-40b5-c157-67c039568cd5"
      },
      "outputs": [
        {
          "name": "stdout",
          "output_type": "stream",
          "text": [
            "united states state soviet 000 court president york american police time night war men government jury week reported city year\n",
            "000 farm year wheat president farmers party cent price house republican crop agriculture senate committee government corn state prices senator\n",
            "york 000 american year city st time war night men years air 10 states united old army world miles plane\n",
            "german war british american tho london air united states great soviet time says york french press army reported world men\n",
            "army government president war general mccarthy troops state american united party men minister reported police greek states night german city\n",
            "president state york house party general city governor castro national white time men states government secretary united night 000 union\n",
            "united states president american war 000 foreign secretary government conference peace state world nations meeting agreement french soviet kissinger talks\n",
            "police city 000 night men persons man street miles building area york injured state old 10 reported near killed ed\n",
            "house 000 state senate president committee congress program year public session tion chairman vote mr senator administration commission secretary government\n",
            "000 cent year million york rate 10 bank prices money cents week market years 500 july total city time department\n",
            "united war president states american nations china chinese communist japanese navy world time government peace forces gen military south british\n",
            "state republican democratic house president party school senate vote election sen governor court committee gov campaign national year schools democrats\n",
            "committee state senate court house president states law department case com report mr commission chairman public united senator government members\n",
            "state city church mrs night president york years st 10 year states man time old roosevelt 000 morning weather reported\n",
            "state senator president mr committee party convention court governor york national states republican general democratic city united chairman law election\n",
            "police night city men 000 state car man mrs year county persons school home near old truck chicago hospital killed\n",
            "mrs old home year police night hospital man children wife dr death car body house miss years told city died\n",
            "state court committee house senate law judge governor federal 000 tax case president general attorney office nixon county jury district\n",
            "house senate committee vote tax state sen session measure senator republican president 000 democratic amendment congress year week democrats million\n",
            "000 states reported men united miles york coast air navy time service american war ship city night area water officials\n",
            "president city mrs general men york night police home mr party state united morning american time states church old people\n",
            "british war french government american army united german london military troops france states italian italy britain foreign paris forces minister\n",
            "000 union cent workers strike year tax president labor increase work company steel wage week contract pay ford industry cents\n",
            "united states government american soviet war foreign nations russia peace state president conference british secretary britain general china great ment\n",
            "war german germany british united london britain states government american hitler great peace france minister world berlin italy king french\n",
            "strike union 000 company work workers men court state miners coal president board chicago labor york city united officials operators\n",
            "israel government israeli arab united egypt president war peace soviet states party council east minister american foreign british state middle\n",
            "mrs police men man 000 old york night home year years miss city death state told held wife court ed\n",
            "cent 000 prices price oil year president labor steel ford industry production government union department increase workers week company strike\n",
            "miles weather area north storm reported water night air south city rain feet near river coast west snow 000 hour\n",
            "soviet united states president west foreign american peace war berlin germany state german world treaty conference nations russia communist east\n",
            "men miles city night killed air reported water ship river force near south persons town american troops 000 10 army\n",
            "president 000 state year governor city mr york roosevelt time years court john secretary night national federal county united government\n",
            "car men train police man night near killed mrs miles city injured bank old dead death shot left time feet\n",
            "000 tax year state committee cent house government senate program president taxes federal congress billion income budget law revenue public\n",
            "army troops war north air east communist forces soviet force german miles south military reported american 000 british red west\n",
            "police city state school court men year miss night old 000 judge county mrs kennedy federal york white students university\n",
            "mr president court man people time war states did told men state york united years american case old government asked\n",
            "000 year city company time men united states york reported 10 work american week state war cent food night ed\n",
            "north air south viet american miles vietnamese saigon troops reported planes force killed vietnam british war forces enemy army german\n",
            "government party minister president war united mr london states premier american state pope world great cabinet time national secretary press\n",
            "mrs police man old year home shot death told miss night men murder wife state county court jury trial son\n",
            "miles japanese army troops forces north air south 000 german reported enemy war american chinese british planes red east west\n",
            "000 cent president price year labor government coal prices work house workers strike men committee pay food federal wage senate\n",
            "police mrs court old death year prison state man told years night home wife men jury trial miss murder case\n",
            "000 labor president union strike workers committee men state work national board house government service york senate united law war\n",
            "000 year plane night miles time york men man air bomb old city atomic hours persons train near home american\n",
            "president nixon house senate eisenhower sen congress war johnson democratic states military told administration republican national year defense state secretary\n",
            "snow city state reported night south weather persons near river area traffic miles north west storm inches highway ohio high\n",
            "plane air miles space flight mrs killed near night car man pilot force hours 000 men time feet year earth\n"
          ]
        }
      ],
      "source": [
        "for word_list in vocab[phi.t().argsort(descending=True)[:,:20].cpu().numpy()]:\n",
        "  print(\" \".join(list(word_list)))"
      ]
    },
    {
      "cell_type": "code",
      "execution_count": null,
      "metadata": {
        "id": "b6vKwgmi91lh"
      },
      "outputs": [],
      "source": []
    }
  ],
  "metadata": {
    "kernelspec": {
      "display_name": "base",
      "language": "python",
      "name": "python3"
    },
    "language_info": {
      "codemirror_mode": {
        "name": "ipython",
        "version": 3
      },
      "file_extension": ".py",
      "mimetype": "text/x-python",
      "name": "python",
      "nbconvert_exporter": "python",
      "pygments_lexer": "ipython3",
      "version": "3.11.7"
    },
    "colab": {
      "provenance": [],
      "include_colab_link": true
    }
  },
  "nbformat": 4,
  "nbformat_minor": 0
}