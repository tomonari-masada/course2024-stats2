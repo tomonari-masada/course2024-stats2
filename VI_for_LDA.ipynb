{
  "cells": [
    {
      "cell_type": "markdown",
      "metadata": {
        "id": "view-in-github",
        "colab_type": "text"
      },
      "source": [
        "<a href=\"https://colab.research.google.com/github/tomonari-masada/course2024-stats2/blob/main/VI_for_LDA.ipynb\" target=\"_parent\"><img src=\"https://colab.research.google.com/assets/colab-badge.svg\" alt=\"Open In Colab\"/></a>"
      ]
    },
    {
      "cell_type": "markdown",
      "metadata": {
        "id": "q7S4yQXx4xSq"
      },
      "source": [
        "# Variational inference for latent Dirichlet allocation"
      ]
    },
    {
      "cell_type": "code",
      "execution_count": null,
      "metadata": {
        "id": "FCd9QTSB4xSt"
      },
      "outputs": [],
      "source": [
        "from tqdm.auto import tqdm\n",
        "from sklearn.feature_extraction.text import CountVectorizer\n",
        "import torch\n",
        "import transformers\n",
        "from datasets import load_dataset\n",
        "\n",
        "transformers.set_seed(1234)\n",
        "\n",
        "device = \"cuda:0\""
      ]
    },
    {
      "cell_type": "markdown",
      "metadata": {
        "id": "4FGWrT-84xSu"
      },
      "source": [
        "* https://huggingface.co/datasets/dell-research-harvard/newswire"
      ]
    },
    {
      "cell_type": "markdown",
      "metadata": {
        "id": "5j3lkzmC4xSu"
      },
      "source": [
        "### データセットの取得"
      ]
    },
    {
      "cell_type": "code",
      "execution_count": null,
      "metadata": {
        "id": "UzWKY87c4xSu"
      },
      "outputs": [],
      "source": [
        "ds = load_dataset(\"dell-research-harvard/newswire\")"
      ]
    },
    {
      "cell_type": "markdown",
      "metadata": {
        "id": "X-KEFpww4xSv"
      },
      "source": [
        "* 文書数を調べる。"
      ]
    },
    {
      "cell_type": "code",
      "execution_count": null,
      "metadata": {
        "id": "EmqdPUSl4xSv"
      },
      "outputs": [],
      "source": [
        "len(ds[\"train\"][\"article\"])"
      ]
    },
    {
      "cell_type": "markdown",
      "metadata": {
        "id": "56OG-pTk4xSv"
      },
      "source": [
        "### データセットの準備\n",
        "* データセットが大きいので1/50だけ使う。"
      ]
    },
    {
      "cell_type": "code",
      "execution_count": null,
      "metadata": {
        "id": "-BYlV1rP4xSw"
      },
      "outputs": [],
      "source": [
        "corpus = ds[\"train\"][\"article\"][::50]\n",
        "num_docs = len(corpus)\n",
        "print(f\"{num_docs} documents\")"
      ]
    },
    {
      "cell_type": "markdown",
      "metadata": {
        "id": "EUA9Hh5G4xSw"
      },
      "source": [
        "* 語彙セットの作成と出現回数の取得"
      ]
    },
    {
      "cell_type": "code",
      "execution_count": null,
      "metadata": {
        "id": "OX_P5iQq4xSw"
      },
      "outputs": [],
      "source": [
        "vectorizer = CountVectorizer(stop_words=\"english\", min_df=0.001, max_df=0.2)\n",
        "X = vectorizer.fit_transform(corpus)\n",
        "vocab = vectorizer.get_feature_names_out()"
      ]
    },
    {
      "cell_type": "code",
      "execution_count": null,
      "metadata": {
        "id": "PruEDxEi4xSw"
      },
      "outputs": [],
      "source": [
        "num_words = len(vocab)\n",
        "print(f\"{num_words} different words\")"
      ]
    },
    {
      "cell_type": "markdown",
      "metadata": {
        "id": "ung9K_xU4xSx"
      },
      "source": [
        "### 事前分布のパラメータの設定"
      ]
    },
    {
      "cell_type": "code",
      "execution_count": null,
      "metadata": {
        "id": "JAv3ox524xSx"
      },
      "outputs": [],
      "source": [
        "num_topics = 50\n",
        "alpha = torch.ones((1, num_topics), device=device) / num_topics"
      ]
    },
    {
      "cell_type": "code",
      "execution_count": null,
      "metadata": {
        "id": "knnt7uRQ4xSx"
      },
      "outputs": [],
      "source": [
        "alpha"
      ]
    },
    {
      "cell_type": "markdown",
      "metadata": {
        "id": "GFjxwDs64xSx"
      },
      "source": [
        "### 事後分布のパラメータの初期化"
      ]
    },
    {
      "cell_type": "code",
      "execution_count": null,
      "metadata": {
        "id": "qx6PviyN4xSx"
      },
      "outputs": [],
      "source": [
        "zeta = torch.zeros((num_docs, num_topics), device=device)\n",
        "phi = torch.zeros((num_words, num_topics), device=device)\n",
        "\n",
        "batch_size = 1000\n",
        "for i in tqdm(range(0, num_docs, batch_size)):\n",
        "  sub_X = torch.tensor(X[i:i+batch_size,:].toarray(), device=device)\n",
        "  q = torch.randn((sub_X.shape[0], num_words, num_topics), device=device)\n",
        "  q = torch.softmax(q, dim=-1)\n",
        "  zeta[i:i+batch_size,:] = alpha + (sub_X.unsqueeze(-1) * q).sum(1)\n",
        "  phi += (sub_X.unsqueeze(-1) * q).sum(0)\n",
        "phi /= phi.sum(0, keepdim=True)"
      ]
    },
    {
      "cell_type": "code",
      "execution_count": null,
      "metadata": {
        "id": "z03dMK_z4xSx"
      },
      "outputs": [],
      "source": [
        "print(zeta[0].sum().item(), X[0].sum())"
      ]
    },
    {
      "cell_type": "code",
      "execution_count": null,
      "metadata": {
        "id": "_CpOaLhS4xSy"
      },
      "outputs": [],
      "source": [
        "phi.sum(0)"
      ]
    },
    {
      "cell_type": "markdown",
      "metadata": {
        "id": "DKII3l-w4xSy"
      },
      "source": [
        "### perplexityを算出するヘルパ関数"
      ]
    },
    {
      "cell_type": "code",
      "execution_count": null,
      "metadata": {
        "id": "tYMup0QR4xSy"
      },
      "outputs": [],
      "source": [
        "def compute_perplexity(quiet=False):\n",
        "  batch_size = 1000\n",
        "  perplexity = 0.0\n",
        "  num_tokens = 0\n",
        "  for i in tqdm(range(0, X.shape[0], batch_size), disable=quiet):\n",
        "    sub_X = torch.tensor(X[i:i+batch_size,:].toarray(), device=device)\n",
        "    normalized_zeta = (\n",
        "      zeta[i:i+batch_size,:]\n",
        "      / zeta[i:i+batch_size,:].sum(-1, keepdim=True)\n",
        "    )\n",
        "    word_prob = (phi.unsqueeze(0) * normalized_zeta.unsqueeze(1)).sum(-1)\n",
        "    perplexity += (sub_X * torch.log(1e-10 + word_prob)).sum()\n",
        "    num_tokens += sub_X.sum()\n",
        "  perplexity = torch.exp(- perplexity / num_tokens).item()\n",
        "  return perplexity"
      ]
    },
    {
      "cell_type": "code",
      "execution_count": null,
      "metadata": {
        "id": "EXCECJnH4xSy"
      },
      "outputs": [],
      "source": [
        "perplexity = compute_perplexity()\n",
        "print(f\"perplexity = {perplexity:.3f}\")"
      ]
    },
    {
      "cell_type": "markdown",
      "metadata": {
        "id": "FoATZO4v4xSy"
      },
      "source": [
        "### 事後分布のパラメータを更新するヘルパ関数"
      ]
    },
    {
      "cell_type": "code",
      "execution_count": null,
      "metadata": {
        "id": "OqibCKUd4xSy"
      },
      "outputs": [],
      "source": [
        "def update(phi, quiet=False):\n",
        "  batch_size = 1000\n",
        "  new_phi = torch.zeros((num_words, num_topics), device=device)\n",
        "  for i in tqdm(range(0, num_docs, batch_size), disable=quiet):\n",
        "    sub_X = torch.tensor(X[i:i+batch_size,:].toarray(), device=device)\n",
        "    q = (\n",
        "      phi.unsqueeze(0)\n",
        "      * torch.exp(torch.digamma(zeta[i:i+batch_size,:])).unsqueeze(1)\n",
        "    )\n",
        "    q /= q.sum(-1, keepdim=True)\n",
        "    zeta[i:i+batch_size,:] = alpha + (sub_X.unsqueeze(-1) * q).sum(1)\n",
        "    new_phi += (sub_X.unsqueeze(-1) * q).sum(0)\n",
        "  return new_phi / new_phi.sum(0, keepdim=True)"
      ]
    },
    {
      "cell_type": "code",
      "execution_count": null,
      "metadata": {
        "id": "pp41BExb4xSy"
      },
      "outputs": [],
      "source": [
        "phi = update(phi)\n",
        "perplexity = compute_perplexity()\n",
        "print(f\"perplexity = {perplexity:.3f}\")"
      ]
    },
    {
      "cell_type": "code",
      "execution_count": null,
      "metadata": {
        "id": "hv1YQAbn4xSy"
      },
      "outputs": [],
      "source": [
        "for epoch in range(2, 31):\n",
        "  phi = update(phi, quiet=True)\n",
        "  perplexity = compute_perplexity(quiet=True)\n",
        "  print(f\"epoch {epoch} | perplexity = {perplexity:.3f}\")"
      ]
    },
    {
      "cell_type": "markdown",
      "metadata": {
        "id": "mmdq1TNf4xSz"
      },
      "source": [
        "### トピック語の表示"
      ]
    },
    {
      "cell_type": "code",
      "execution_count": null,
      "metadata": {
        "id": "eJgvuLKU4xSz"
      },
      "outputs": [],
      "source": [
        "for word_list in vocab[phi.t().argsort(descending=True)[:,:20].cpu().numpy()]:\n",
        "  print(\" \".join(list(word_list)))"
      ]
    },
    {
      "cell_type": "code",
      "execution_count": null,
      "metadata": {
        "id": "yqqWfO1b4xSz"
      },
      "outputs": [],
      "source": []
    }
  ],
  "metadata": {
    "kernelspec": {
      "display_name": "base",
      "language": "python",
      "name": "python3"
    },
    "language_info": {
      "codemirror_mode": {
        "name": "ipython",
        "version": 3
      },
      "file_extension": ".py",
      "mimetype": "text/x-python",
      "name": "python",
      "nbconvert_exporter": "python",
      "pygments_lexer": "ipython3",
      "version": "3.11.7"
    },
    "colab": {
      "provenance": [],
      "include_colab_link": true
    }
  },
  "nbformat": 4,
  "nbformat_minor": 0
}