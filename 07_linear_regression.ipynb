{
  "nbformat": 4,
  "nbformat_minor": 0,
  "metadata": {
    "colab": {
      "provenance": [],
      "authorship_tag": "ABX9TyMQbHiiovxJmupFe9YVRIOy",
      "include_colab_link": true
    },
    "kernelspec": {
      "name": "python3",
      "display_name": "Python 3"
    },
    "language_info": {
      "name": "python"
    }
  },
  "cells": [
    {
      "cell_type": "markdown",
      "metadata": {
        "id": "view-in-github",
        "colab_type": "text"
      },
      "source": [
        "<a href=\"https://colab.research.google.com/github/tomonari-masada/course2024-stats2/blob/main/07_linear_regression.ipynb\" target=\"_parent\"><img src=\"https://colab.research.google.com/assets/colab-badge.svg\" alt=\"Open In Colab\"/></a>"
      ]
    },
    {
      "cell_type": "markdown",
      "metadata": {
        "id": "4LPThopIBKCx"
      },
      "source": [
        "# 線形回帰\n",
        "* ベイズ線形回帰モデルを実装する。\n",
        "* それだけでなく、外れ値に強いロバストな回帰分析を行なう方法も示す。"
      ]
    },
    {
      "cell_type": "markdown",
      "source": [
        "* 下のWebページを参考にしました。\n",
        "  * https://bambinos.github.io/bambi/notebooks/t_regression.html"
      ],
      "metadata": {
        "id": "ksj6YttjYH-j"
      }
    },
    {
      "cell_type": "markdown",
      "source": [
        "* ベイズ線形回帰については、下の記事も参考になります。\n",
        " * Part 1 https://towardsdatascience.com/applied-bayesian-inference-pt-1-322b25093f62\n",
        " * Part 2 https://towardsdatascience.com/applied-bayesian-inference-with-python-pt-2-80bcd63b507e"
      ],
      "metadata": {
        "id": "PMrY9F3AHAZl"
      }
    },
    {
      "cell_type": "markdown",
      "metadata": {
        "id": "onxNhsEXwsw8"
      },
      "source": [
        "## 準備"
      ]
    },
    {
      "cell_type": "code",
      "source": [
        "!pip install numpyro"
      ],
      "metadata": {
        "id": "15OT7u0_HlBb"
      },
      "execution_count": null,
      "outputs": []
    },
    {
      "cell_type": "code",
      "metadata": {
        "id": "H-uy64K0w2xG"
      },
      "source": [
        "import matplotlib.pyplot as plt\n",
        "import numpy as np\n",
        "import pandas as pd\n",
        "import seaborn as sns\n",
        "\n",
        "import jax\n",
        "import jax.numpy as jnp\n",
        "from jax import random\n",
        "import numpyro\n",
        "from numpyro.diagnostics import hpdi\n",
        "import numpyro.distributions as dist\n",
        "from numpyro.infer import NUTS, MCMC, Predictive\n",
        "\n",
        "import arviz as az\n",
        "\n",
        "%config InlineBackend.figure_format = 'retina'\n",
        "\n",
        "plt.style.use(\"bmh\")\n",
        "az.style.use(\"arviz-darkgrid\")\n",
        "\n",
        "rng_key = random.PRNGKey(0)\n",
        "\n",
        "numpyro.set_platform(\"cpu\")"
      ],
      "execution_count": null,
      "outputs": []
    },
    {
      "cell_type": "markdown",
      "metadata": {
        "id": "TOaOTk8Bo44K"
      },
      "source": [
        "## ベイズ線形回帰"
      ]
    },
    {
      "cell_type": "markdown",
      "metadata": {
        "id": "MwhAHXPSqkU7"
      },
      "source": [
        "### 復習：最尤推定\n",
        "* 線形回帰は、以下のように定式化できる。\n",
        "$$ Y = \\beta_0 + \\beta_1 X_1 + \\beta_2 X_2 + \\cdots + \\beta_d X_d + \\epsilon $$\n",
        " * $\\beta_0, \\beta_1, \\ldots, \\beta_d$が推定すべき係数。\n",
        " * $\\beta = (\\beta_0, \\beta_1, \\ldots, \\beta_d)$、$X = (1, X_1, \\ldots, X_d)$とおくと、上式は以下のように書ける。\n",
        "$$ Y = \\beta^\\top X + \\epsilon $$\n",
        "* 最小二乗法では、誤差項$\\epsilon$が正規分布に従うと仮定し、最尤推定する。\n",
        "* $i$番目の訓練データの説明変数の値を$x_i = (1, x_{i,1}, \\ldots, x_{i,d})$、対応する目的変数の値を$y_i$と書くことにすると、データ尤度は\n",
        "$$ L(\\beta; \\{ (x_1,y_1), \\ldots, (x_N,y_N) \\} ) = \\prod_{i=1}^N \\frac{1}{\\sqrt{2\\pi\\sigma^2}} \\exp \\bigg( - \\frac{ ( y_i - \\beta^\\top x_i )^2 }{2 \\sigma^2} \\bigg) $$\n",
        "* $L(\\beta; \\{ (x_1,y_1), \\ldots, (x_N,y_N) \\} )$を最大にする$\\hat{\\beta}$ で答えるのが、最小二乗法。\n",
        " * $\\sigma$を定数とみなすならば、$\\sigma$がいくらであろうと、答えは同じ。"
      ]
    },
    {
      "cell_type": "markdown",
      "metadata": {
        "id": "sSJL3J6Rqmo8"
      },
      "source": [
        "### ベイズ推論\n",
        "* やはり、誤差項が正規分布に従うと仮定する。\n",
        "$$ \\epsilon \\sim N(0, \\sigma^2)$$\n",
        "* これを書き直すと\n",
        "$$ Y \\sim N(\\beta^\\top X, \\sigma^2) $$\n",
        "* ベイズ推論を使う場合、$\\beta$や$\\sigma$が従う分布を、事前分布として導入する。\n",
        "* そして、$\\beta$や$\\sigma$が従う事後分布を求める。"
      ]
    },
    {
      "cell_type": "markdown",
      "metadata": {
        "id": "Q6TdfVgVwiWk"
      },
      "source": [
        "## 通常のベイズ線形回帰\n",
        "* 今回は説明変数が一つだけの場合を考える。\n",
        "* ここで「通常の」とは、誤差項が正規分布に従うと仮定する、という意味。\n",
        "* つまり、\n",
        "$$ Y \\sim N(\\beta_0 + \\beta_1 X_1, \\sigma^2) $$\n",
        "* そして、$\\beta_0$, $\\beta_1$, $\\sigma$について事前分布を導入する。"
      ]
    },
    {
      "cell_type": "markdown",
      "metadata": {
        "id": "oDZQaJS4w-Pq"
      },
      "source": [
        "### 人工的なデータ集合を生成\n",
        "* 真の切片$\\beta_0$は$1$、真の傾き$\\beta_1$は$2$であるとして、データを人工的に生成する。\n",
        " * 誤差項が従う正規分布の標準偏差$\\sigma$は0.5と設定している。"
      ]
    },
    {
      "cell_type": "code",
      "metadata": {
        "id": "15hcETBuBHvS"
      },
      "source": [
        "size = 200\n",
        "true_intercept = 1\n",
        "true_slope = 2\n",
        "\n",
        "x = jnp.linspace(0, 1, size)\n",
        "# y = a + b*x\n",
        "true_regression_line = true_intercept + true_slope * x\n",
        "# add noise\n",
        "rng_key, rng_key_ = random.split(rng_key)\n",
        "y = true_regression_line + random.normal(rng_key_, shape=(size,)) * 0.5\n",
        "\n",
        "data = dict(x=x, y=y)"
      ],
      "execution_count": null,
      "outputs": []
    },
    {
      "cell_type": "code",
      "metadata": {
        "id": "cgkkvog_xof8"
      },
      "source": [
        "fig = plt.figure(figsize=(7, 5))\n",
        "ax = fig.add_subplot(111, xlabel=\"x\", ylabel=\"y\")\n",
        "ax.plot(x, y, \"x\", label=\"data\")\n",
        "ax.plot(x, true_regression_line, label=\"true regression line\", c=\"r\")\n",
        "plt.legend(loc=0);"
      ],
      "execution_count": null,
      "outputs": []
    },
    {
      "cell_type": "markdown",
      "metadata": {
        "id": "F4HT8fK1zXXK"
      },
      "source": [
        "### モデルの指定\n",
        "* 切片$\\beta_0$と傾き$\\beta_1$の事前分布は、平均$0$、標準偏差$20$の正規分布とする。\n",
        "$$\n",
        "\\begin{align}\n",
        "\\beta_0 & \\sim N(0, 20^2) \\\\\n",
        "\\beta_1 & \\sim N(0, 20^2)\n",
        "\\end{align}\n",
        "$$\n",
        "* 誤差項$\\epsilon \\sim N(0, \\sigma^2)$の標準偏差$\\sigma$は、half Cauchy分布に従うとする。\n",
        " * scaleパラメータは10とする。\n",
        "$$\\sigma \\sim \\text{HalfCauchy}(10) $$"
      ]
    },
    {
      "cell_type": "code",
      "metadata": {
        "id": "fSmxUae-xwIF"
      },
      "source": [
        "def model(x=None, y=None):\n",
        "  sigma = numpyro.sample(\"sigma\", dist.HalfCauchy(10))\n",
        "  intercept = numpyro.sample(\"intercept\", dist.Normal(0, 20))\n",
        "  slope = numpyro.sample(\"slope\", dist.Normal(0, 20))\n",
        "  likelihood = numpyro.sample(\"y\", dist.Normal(intercept + slope * x, sigma), obs=y)"
      ],
      "execution_count": null,
      "outputs": []
    },
    {
      "cell_type": "markdown",
      "metadata": {
        "id": "kQh_3mgM02O1"
      },
      "source": [
        "### MCMCの実行"
      ]
    },
    {
      "cell_type": "code",
      "metadata": {
        "id": "5Ky-CLUk0sNf"
      },
      "source": [
        "rng_key, rng_key_ = random.split(rng_key)\n",
        "kernel = NUTS(model)\n",
        "mcmc = MCMC(kernel, num_warmup=3000, num_samples=2000, num_chains=4)\n",
        "mcmc.run(rng_key_, x=data[\"x\"], y=data[\"y\"])"
      ],
      "execution_count": null,
      "outputs": []
    },
    {
      "cell_type": "code",
      "source": [
        "mcmc.print_summary()"
      ],
      "metadata": {
        "id": "bxLrRq1spuVW"
      },
      "execution_count": null,
      "outputs": []
    },
    {
      "cell_type": "code",
      "source": [
        "idata = az.from_numpyro(mcmc)"
      ],
      "metadata": {
        "id": "QjqPk8HAslOP"
      },
      "execution_count": null,
      "outputs": []
    },
    {
      "cell_type": "code",
      "metadata": {
        "id": "N2Jzc8ZJ1B1t"
      },
      "source": [
        "az.plot_trace(idata);"
      ],
      "execution_count": null,
      "outputs": []
    },
    {
      "cell_type": "code",
      "metadata": {
        "id": "sN13B5kV1wge"
      },
      "source": [
        "az.plot_autocorr(idata, combined=True, figsize=(16,3));"
      ],
      "execution_count": null,
      "outputs": []
    },
    {
      "cell_type": "markdown",
      "metadata": {
        "id": "7QnXAL81YLey"
      },
      "source": [
        "### 回帰直線\n",
        "* 4つのchainのうちの最初のchainの、最初の200個のサンプルに対応する回帰直線を、すべて描いてみる。"
      ]
    },
    {
      "cell_type": "code",
      "source": [
        "plt.figure(figsize=(7, 5))\n",
        "\n",
        "n_lines = 200\n",
        "\n",
        "posterior = idata.posterior\n",
        "\n",
        "x_axis = np.linspace(0, 1, 11)\n",
        "intercepts = posterior.intercept.data[0,:n_lines].reshape(1, -1)\n",
        "slopes = posterior.slope.data[0,:n_lines].reshape(1, -1)\n",
        "mu_pred = intercepts + slopes * x_axis.reshape(-1, 1)\n",
        "mu_mean = mu_pred.mean(1)\n",
        "\n",
        "plt.plot(x, y, \"x\", label=\"data\")\n",
        "plt.plot(x, true_regression_line, c=\"r\", label=\"true regression line\", lw=3)\n",
        "plt.plot(x_axis, mu_pred, color=\"black\", alpha=0.025)\n",
        "plt.legend(loc=0);"
      ],
      "metadata": {
        "id": "XXtV8O5odzkM"
      },
      "execution_count": null,
      "outputs": []
    },
    {
      "cell_type": "markdown",
      "source": [
        "### 予測値の期待値の信用区間\n",
        "* 説明変数のさまざまな値に対応する目的変数の期待値の信用区間を可視化する。"
      ],
      "metadata": {
        "id": "4wy4ikyVxB2S"
      }
    },
    {
      "cell_type": "markdown",
      "source": [
        "* まず、切片と傾きの各サンプルを使って、回帰式を計算する。"
      ],
      "metadata": {
        "id": "QV0ckxrY1mSA"
      }
    },
    {
      "cell_type": "code",
      "source": [
        "intercepts = posterior.intercept.data.flatten().reshape(-1, 1)\n",
        "slopes = posterior.slope.data.flatten().reshape(-1, 1)\n",
        "posterior_mu = intercepts + slopes * x.reshape(1, -1)"
      ],
      "metadata": {
        "id": "YArrNGih02Ds"
      },
      "execution_count": null,
      "outputs": []
    },
    {
      "cell_type": "code",
      "source": [
        "posterior_mu.shape"
      ],
      "metadata": {
        "id": "c8yngk_O5A89"
      },
      "execution_count": null,
      "outputs": []
    },
    {
      "cell_type": "markdown",
      "source": [
        "* 期待値の信用区間をHPDIとして求める。"
      ],
      "metadata": {
        "id": "lIFXeDIl1i_y"
      }
    },
    {
      "cell_type": "code",
      "source": [
        "hpdi_mu = hpdi(posterior_mu, 0.9)"
      ],
      "metadata": {
        "id": "OmGdRDBF1fDS"
      },
      "execution_count": null,
      "outputs": []
    },
    {
      "cell_type": "markdown",
      "source": [
        "* 人工的に作った200個のデータのxの値それぞれについて、90% highest posterior density interval (HPDI)が求まっている。\n",
        " * 転置したほうが見やすいので、転置してから表示している。"
      ],
      "metadata": {
        "id": "kXoNblJVEGE9"
      }
    },
    {
      "cell_type": "code",
      "source": [
        "hpdi_mu.T"
      ],
      "metadata": {
        "id": "KjRS0uqp5LYD"
      },
      "execution_count": null,
      "outputs": []
    },
    {
      "cell_type": "markdown",
      "source": [
        "* 90% HPDIを可視化する。"
      ],
      "metadata": {
        "id": "WwF7TtmbEtnb"
      }
    },
    {
      "cell_type": "code",
      "source": [
        "plt.figure(figsize=(7, 5))\n",
        "\n",
        "plt.plot(x, y, \"x\", label=\"data\")\n",
        "# Plot recovered linear regression\n",
        "x_range = np.linspace(0, 1, 2000)\n",
        "y_pred = posterior.slope.mean().item() * x_range + posterior.intercept.mean().item()\n",
        "plt.plot(x_range, y_pred, color=\"black\", linestyle=\"--\", label=\"Recovered regression line\")\n",
        "# Plot 90% CI\n",
        "plt.fill_between(x, hpdi_mu[0], hpdi_mu[1], alpha=0.3, interpolate=True, label=\"90% HPDI\")\n",
        "# Plot true regression line\n",
        "plt.plot(x, true_regression_line, c=\"r\", label=\"true regression line\", lw=3)\n",
        "plt.legend(loc=0);"
      ],
      "metadata": {
        "id": "5DIbhwpixKTd"
      },
      "execution_count": null,
      "outputs": []
    },
    {
      "cell_type": "markdown",
      "metadata": {
        "id": "eT2cMW9sY-5F"
      },
      "source": [
        "## ロバストなベイズ線形回帰\n",
        "* 観測データが外れ値を含む場合、モデリングを工夫するほうがいい。\n",
        "* 誤差項が正規分布に従うと仮定してしまうと、回帰直線が外れ値に引っ張られてしまう。\n",
        "* そこで、**誤差項がt分布に従う**と仮定する。"
      ]
    },
    {
      "cell_type": "markdown",
      "metadata": {
        "id": "53QHOR0aZlgg"
      },
      "source": [
        "### 外れ値を含むデータ集合の作成"
      ]
    },
    {
      "cell_type": "markdown",
      "metadata": {
        "id": "irv-rytuZxYk"
      },
      "source": [
        "* 上で作ったデータ集合に、わざと外れ値を追加する。"
      ]
    },
    {
      "cell_type": "code",
      "metadata": {
        "id": "3oPMIb_IYwEq"
      },
      "source": [
        "x_out = jnp.append(x, jnp.array([0.1, 0.15, 0.2]))\n",
        "y_out = jnp.append(y, jnp.array([8, 6, 9]))\n",
        "\n",
        "# xの値でソートしておく。\n",
        "idx = jnp.argsort(x_out)\n",
        "x_out = x_out[idx]\n",
        "y_out = y_out[idx]\n",
        "\n",
        "data_outlier = dict(x=x_out, y=y_out)"
      ],
      "execution_count": null,
      "outputs": []
    },
    {
      "cell_type": "markdown",
      "source": [
        "* 真の回帰直線は、変更しない。\n",
        " * 外れ値は外れ値なので。"
      ],
      "metadata": {
        "id": "QDcPRJd1FXOx"
      }
    },
    {
      "cell_type": "code",
      "source": [
        "fig = plt.figure(figsize=(7, 5))\n",
        "ax = fig.add_subplot(111, xlabel=\"x\", ylabel=\"y\")\n",
        "ax.plot(x_out, y_out, \"x\", label=\"data\")\n",
        "ax.plot(x, true_regression_line, label=\"true regression line\", c=\"r\")\n",
        "plt.legend(loc=0);"
      ],
      "metadata": {
        "id": "mTn2Rkt5fXg1"
      },
      "execution_count": null,
      "outputs": []
    },
    {
      "cell_type": "markdown",
      "source": [
        "### 誤差項が正規分布に従うと仮定したモデル\n",
        "* 先ほどと同様、誤差項が正規分布に従うものとしてモデリングしてみる。\n",
        "* よって、モデルは流用し、観測データだけを入れ替えてMCMCを実行する。"
      ],
      "metadata": {
        "id": "M5Jz3UBgTuZA"
      }
    },
    {
      "cell_type": "code",
      "metadata": {
        "id": "xA3NeSYLZ1ol"
      },
      "source": [
        "rng_key, rng_key_ = random.split(rng_key)\n",
        "kernel = NUTS(model)\n",
        "mcmc = MCMC(kernel, num_warmup=1000, num_samples=2000, num_chains=4)\n",
        "mcmc.run(rng_key_, x=data_outlier[\"x\"], y=data_outlier[\"y\"])"
      ],
      "execution_count": null,
      "outputs": []
    },
    {
      "cell_type": "code",
      "source": [
        "mcmc.print_summary()"
      ],
      "metadata": {
        "id": "hP4WjAW5IAIl"
      },
      "execution_count": null,
      "outputs": []
    },
    {
      "cell_type": "code",
      "source": [
        "idata_normal = az.from_numpyro(mcmc)"
      ],
      "metadata": {
        "id": "CDoSLkdDIEIq"
      },
      "execution_count": null,
      "outputs": []
    },
    {
      "cell_type": "markdown",
      "source": [
        "* 事後分布について注目すべき点\n",
        " * interceptの分布の山が、1より大きい方へずれている。\n",
        " * slopeの分布の山が、2より小さい方へずれている。"
      ],
      "metadata": {
        "id": "F5smd-FvIQ6u"
      }
    },
    {
      "cell_type": "code",
      "source": [
        "az.plot_trace(idata_normal);"
      ],
      "metadata": {
        "id": "l20v-zoeIJxL"
      },
      "execution_count": null,
      "outputs": []
    },
    {
      "cell_type": "code",
      "source": [
        "az.plot_autocorr(idata_normal, combined=True, figsize=(16,3));"
      ],
      "metadata": {
        "id": "HPrNR6e6IdfS"
      },
      "execution_count": null,
      "outputs": []
    },
    {
      "cell_type": "markdown",
      "source": [
        "* 予測値の期待値の信用区間を求める。"
      ],
      "metadata": {
        "id": "sDbwBogJ08o5"
      }
    },
    {
      "cell_type": "code",
      "source": [
        "posterior = idata_normal.posterior\n",
        "\n",
        "intercepts = posterior.intercept.data.flatten().reshape(-1, 1)\n",
        "slopes = posterior.slope.data.flatten().reshape(-1, 1)\n",
        "posterior_mu = intercepts + slopes * x_out.reshape(1, -1)\n",
        "\n",
        "hpdi_mu = hpdi(posterior_mu, 0.9)"
      ],
      "metadata": {
        "id": "Tw5u8f8IIlT9"
      },
      "execution_count": null,
      "outputs": []
    },
    {
      "cell_type": "markdown",
      "source": [
        "* MCMCによって求められた90% HPDIの区間が、外れ値の方に引っ張られている。"
      ],
      "metadata": {
        "id": "JKBTqwkBKD4k"
      }
    },
    {
      "cell_type": "code",
      "source": [
        "plt.figure(figsize=(7, 5))\n",
        "\n",
        "plt.plot(x_out, y_out, \"x\", label=\"data\")\n",
        "# Plot recovered linear regression\n",
        "x_range = np.linspace(0, 1, 2000)\n",
        "y_pred = posterior.slope.mean().item() * x_range + posterior.intercept.mean().item()\n",
        "plt.plot(x_range, y_pred, color=\"black\", linestyle=\"--\", label=\"Recovered regression line\")\n",
        "# Plot 90% CI\n",
        "plt.fill_between(x_out, hpdi_mu[0], hpdi_mu[1], alpha=0.3, interpolate=True, label=\"90% HPDI\")\n",
        "# Plot true regression line\n",
        "plt.plot(x, true_regression_line, c=\"r\", label=\"true regression line\", lw=3)\n",
        "plt.legend(loc=0);"
      ],
      "metadata": {
        "id": "g0wGMMTBgKOa"
      },
      "execution_count": null,
      "outputs": []
    },
    {
      "cell_type": "markdown",
      "metadata": {
        "id": "2SlUCxkca4sl"
      },
      "source": [
        "### 誤差項がt分布に従うと仮定したモデル\n",
        "* t分布は、正規分布よりも、裾野が厚い。\n",
        " * 正規分布よりも、外れ値を許容する度合いが高くなる。\n",
        "* 事前分布の設定方法は、以下の記事を参考にした。\n",
        " * https://jrnold.github.io/bayesian_notes/robust-regression.html"
      ]
    },
    {
      "cell_type": "markdown",
      "source": [
        "* 誤差項が従うt分布のパラメータにも、事前分布を設定する。\n",
        "* scaleパラメータはhalf Student T分布に従うと仮定する。\n",
        " * cf. https://en.wikipedia.org/wiki/Student%27s_t-distribution\n",
        " * half Student T分布は、`numpyro.dist.FoldedDistribution`クラスを利用して、自分で定義する。\n",
        "* t分布の自由度パラメータはガンマ分布に従うと仮定する。\n",
        " * cf. https://github.com/stan-dev/stan/wiki/Prior-Choice-Recommendations\n"
      ],
      "metadata": {
        "id": "_YCSIoK70Ie-"
      }
    },
    {
      "cell_type": "markdown",
      "source": [
        "$$ \\sigma_0 \\sim \\text{Half-Cauchy}(10)$$\n",
        "$$ \\nu_0 \\sim \\text{Gamma}(2, 0.1)$$\n",
        "$$ \\sigma \\sim hlst(0, \\sigma_0^2, \\nu_0)$$\n",
        "$$ \\nu \\sim \\text{Gamma}(2, 0.1)$$\n",
        "$$ \\beta_0 \\sim N(0, 20^2)$$\n",
        "$$ \\beta_1 \\sim N(0, 20^2)$$\n",
        "$$ Y \\sim lst(\\beta^\\top X, \\sigma^2, \\nu)$$"
      ],
      "metadata": {
        "id": "u8FqXFzlAcHv"
      }
    },
    {
      "cell_type": "markdown",
      "source": [
        "* 略記の意味は以下の通り。\n",
        "  * hlst = half location-scale student distribution\n",
        "  * lst = location-scale student distribution"
      ],
      "metadata": {
        "id": "u58iPZPysePW"
      }
    },
    {
      "cell_type": "code",
      "source": [
        "def FoldedStudentT(df, loc=0.0, scale=1.0):\n",
        "  return dist.FoldedDistribution(dist.StudentT(df, loc=loc, scale=scale))"
      ],
      "metadata": {
        "id": "j0_RU68eiPxh"
      },
      "execution_count": null,
      "outputs": []
    },
    {
      "cell_type": "code",
      "source": [
        "def model_t(x=None, y=None):\n",
        "  sigma0 = numpyro.sample(\"sigma0\", dist.HalfCauchy(10))\n",
        "  nu0 = numpyro.sample(\"nu0\", dist.Gamma(2, 0.1))\n",
        "  sigma = numpyro.sample(\"sigma\", FoldedStudentT(nu0, scale=sigma0))\n",
        "  nu = numpyro.sample(\"nu\", dist.Gamma(2, 0.1))\n",
        "  intercept = numpyro.sample(\"intercept\", dist.Normal(0, 20))\n",
        "  slope = numpyro.sample(\"slope\", dist.Normal(0, 20))\n",
        "  likelihood = numpyro.sample(\"y\", dist.StudentT(nu, intercept + slope * x, sigma), obs=y)"
      ],
      "metadata": {
        "id": "ziTwMUo7KXDn"
      },
      "execution_count": null,
      "outputs": []
    },
    {
      "cell_type": "code",
      "source": [
        "rng_key, rng_key_ = random.split(rng_key)\n",
        "kernel = NUTS(model_t)\n",
        "mcmc = MCMC(kernel, num_warmup=1000, num_samples=2000, num_chains=4)\n",
        "mcmc.run(rng_key_, x=data_outlier[\"x\"], y=data_outlier[\"y\"])"
      ],
      "metadata": {
        "id": "U-NWFW6XkOnO"
      },
      "execution_count": null,
      "outputs": []
    },
    {
      "cell_type": "code",
      "source": [
        "mcmc.print_summary()"
      ],
      "metadata": {
        "id": "EuJ-3iARlv6q"
      },
      "execution_count": null,
      "outputs": []
    },
    {
      "cell_type": "code",
      "source": [
        "idata_t = az.from_numpyro(mcmc)"
      ],
      "metadata": {
        "id": "zJbVIsLqkZjZ"
      },
      "execution_count": null,
      "outputs": []
    },
    {
      "cell_type": "markdown",
      "metadata": {
        "id": "fvLlZgXOgWXY"
      },
      "source": [
        "* 傾きと切片について、外れ値を追加する前と、あまり変わらない結果になっている。"
      ]
    },
    {
      "cell_type": "code",
      "metadata": {
        "id": "W87lejdShy28"
      },
      "source": [
        "az.plot_trace(idata_t);"
      ],
      "execution_count": null,
      "outputs": []
    },
    {
      "cell_type": "code",
      "source": [
        "az.plot_autocorr(idata_t, combined=True, figsize=(16,6));"
      ],
      "metadata": {
        "id": "rhmLtujBV7Lp"
      },
      "execution_count": null,
      "outputs": []
    },
    {
      "cell_type": "code",
      "source": [
        "posterior = idata_t.posterior\n",
        "\n",
        "intercepts = posterior.intercept.data.flatten().reshape(-1, 1)\n",
        "slopes = posterior.slope.data.flatten().reshape(-1, 1)\n",
        "posterior_mu = intercepts + slopes * x_out.reshape(1, -1)\n",
        "\n",
        "hpdi_mu = hpdi(posterior_mu, 0.9)"
      ],
      "metadata": {
        "id": "pEue4MfBl9tM"
      },
      "execution_count": null,
      "outputs": []
    },
    {
      "cell_type": "code",
      "metadata": {
        "id": "adOxEoKmfrz7"
      },
      "source": [
        "plt.figure(figsize=(7, 5))\n",
        "\n",
        "plt.plot(x_out, y_out, \"x\", label=\"data\")\n",
        "# Plot recovered linear regression\n",
        "x_range = np.linspace(0, 1, 2000)\n",
        "y_pred = posterior.slope.mean().item() * x_range + posterior.intercept.mean().item()\n",
        "plt.plot(x_range, y_pred, color=\"black\", linestyle=\"--\", label=\"Recovered regression line\")\n",
        "# Plot 90% CI\n",
        "plt.fill_between(x_out, hpdi_mu[0], hpdi_mu[1], alpha=0.3, interpolate=True, label=\"90% HPDI\")\n",
        "# Plot true regression line\n",
        "plt.plot(x, true_regression_line, c=\"r\", label=\"true regression line\", lw=3)\n",
        "plt.legend(loc=0);"
      ],
      "execution_count": null,
      "outputs": []
    },
    {
      "cell_type": "markdown",
      "source": [
        "### モデルの比較\n",
        "* 理論的な説明は、 https://arxiv.org/abs/1507.04544 を参照。"
      ],
      "metadata": {
        "id": "QM-8STGC8svv"
      }
    },
    {
      "cell_type": "code",
      "source": [
        "models = { \"gaussian\": idata_normal, \"Student T\": idata_t }\n",
        "df_compare = az.compare(models)\n",
        "df_compare"
      ],
      "metadata": {
        "id": "qT81mt9P7kqe"
      },
      "execution_count": null,
      "outputs": []
    },
    {
      "cell_type": "markdown",
      "source": [
        "* 上掲論文には、warningがTrueになっている場合、モデルがそもそもロバストでない（一部のデータに強い影響を受けてしまっている）可能性がある、と書いてある。"
      ],
      "metadata": {
        "id": "zeC8CHI90rqd"
      }
    },
    {
      "cell_type": "markdown",
      "source": [
        "* 横軸の対数尤度は大きい方が良い。"
      ],
      "metadata": {
        "id": "1_zX9OUJhHtv"
      }
    },
    {
      "cell_type": "code",
      "source": [
        "az.plot_compare(df_compare);"
      ],
      "metadata": {
        "id": "-TP2Gy2r7pTs"
      },
      "execution_count": null,
      "outputs": []
    },
    {
      "cell_type": "code",
      "source": [],
      "metadata": {
        "id": "6TuByhuLGKAW"
      },
      "execution_count": null,
      "outputs": []
    }
  ]
}