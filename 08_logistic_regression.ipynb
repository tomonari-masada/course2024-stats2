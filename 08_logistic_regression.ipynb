{
  "cells": [
    {
      "cell_type": "markdown",
      "metadata": {
        "id": "view-in-github",
        "colab_type": "text"
      },
      "source": [
        "<a href=\"https://colab.research.google.com/github/tomonari-masada/course2024-stats2/blob/main/08_logistic_regression.ipynb\" target=\"_parent\"><img src=\"https://colab.research.google.com/assets/colab-badge.svg\" alt=\"Open In Colab\"/></a>"
      ]
    },
    {
      "cell_type": "markdown",
      "metadata": {
        "id": "x6pQJlIYfoU6"
      },
      "source": [
        "# 一般線形モデル (GLM; generalized linear model)\n",
        "* 今回はロジスティック回帰を採り上げる。"
      ]
    },
    {
      "cell_type": "markdown",
      "metadata": {
        "id": "qZtZGmsda7aG"
      },
      "source": [
        "## 一般線形モデルとは\n",
        "### 線形回帰\n",
        "* 線形回帰は、以下のように定式化できる。\n",
        "$$ Y = \\beta_0 + \\beta_1 X_1 + \\beta_2 X_2 + \\cdots + \\beta_d X_d + \\epsilon $$\n",
        "* $\\beta_0, \\beta_1, \\ldots, \\beta_d$が推定すべき係数。\n",
        "* $\\beta = (\\beta_0, \\beta_1, \\ldots, \\beta_d)$、$X = (1, X_1, \\ldots, X_d)$とおくと、上式は以下のように書ける。\n",
        "$$ Y = \\beta^\\top X + \\epsilon $$\n",
        "* 最小二乗法では、誤差項$\\epsilon$が正規分布に従うと仮定し、最尤推定で推定する。\n"
      ]
    },
    {
      "cell_type": "markdown",
      "metadata": {
        "id": "phSoAtOo1p1_"
      },
      "source": [
        "### 線形モデルの一般化\n",
        "* 線形回帰では、正規分布の平均$\\mu$が$\\beta^\\top X$に等しい、と置いている。\n",
        "  * つまり、$\\mu = E[Y | X] = \\beta^\\top X$と置いている。\n",
        "* 正規分布以外の分布でも、その分布の平均を$\\beta^\\top X$の関数で表すことで、正規分布ではモデリングしにくいデータのモデリングに線形モデルを使う可能性が広がる。"
      ]
    },
    {
      "cell_type": "markdown",
      "metadata": {
        "id": "aSIiFrqN2Ycn"
      },
      "source": [
        "### ロジスティック回帰\n",
        "* ロジスティック回帰では、正規分布ではなく、ベルヌーイ分布を観測データのモデリングに用いる。\n",
        "* ベルヌーイ分布の平均$\\mu$は、outcomeが$1$となる確率である。\n",
        "* $\\beta^\\top X$を$[0,1]$の区間の値に変換するために、シグモイド関数$\\mu(s) = \\frac{1}{1 + e^{- s}}$を使う。\n",
        "* ということは、各データ点$\\textbf{x}_i = (x_{i,1}, \\ldots, x_{i,d})$に対応する、outcomeが$1$となる確率を$p_i = \\frac{1}{1 + e^{- \\beta^\\top \\textbf{x}_i}}$として・・・\n",
        "* 0か1かの正解ラベルを$t_i$と書くと、$\\sum_i \\{ t_i \\log p_i + (1 - t_i) \\log (1 - p_i) \\}$の最大化によって、最尤推定を行うことができる。\n",
        "  * ロジスティック回帰の場合のシグモイド関数のような関数を、GLMにおける平均関数(mean function)と呼ぶ。\n",
        "  * mean functionの逆関数を、リンク関数(link function)と呼ぶ。"
      ]
    },
    {
      "cell_type": "markdown",
      "metadata": {
        "id": "GtnLrjBq414x"
      },
      "source": [
        "### ポアソン回帰\n",
        "* ポアソン回帰では、正規分布ではなく、ポアソン分布を観測データのモデリングに用いる。\n",
        "* ポアソン分布の平均$\\mu$は、ポアソン分布の唯一のパラメータそのものである。このパラメータが取る値の範囲は$(0,\\infty)$である。\n",
        "* $\\beta^\\top X$を$[0,1]$の区間の値に変換するために、指数関数を使う。\n",
        "* ということは、各データ点$\\textbf{x}_i = (x_{i,1}, \\ldots, x_{i,d})$に対応するポアソン分布のパラメータを$\\lambda_i = e^{\\beta^\\top \\textbf{x}_i}$として・・・\n",
        "* 正解の回数を$c_i$と書くと、$\\sum_i \\{ c_i \\log \\lambda_i - \\lambda_i \\}$の最大化によって、最尤推定を行うことができる。\n",
        "  * ポアソン回帰の場合の平均関数は、指数関数。\n",
        "  * ということは、リンク関数は、対数関数。"
      ]
    },
    {
      "cell_type": "markdown",
      "metadata": {
        "id": "nV4BUr_x7JKt"
      },
      "source": [
        "### 一般線形モデルのベイズ化\n",
        "* 一般線形モデルのベイズ化は、線形回帰と同様、係数と切片に事前分布を導入することで行われる。"
      ]
    },
    {
      "cell_type": "markdown",
      "metadata": {
        "id": "_jsDUW_HsNLb"
      },
      "source": [
        "## 準備"
      ]
    },
    {
      "cell_type": "code",
      "execution_count": null,
      "metadata": {
        "id": "06ZDrtsa8IWa"
      },
      "outputs": [],
      "source": [
        "!pip install numpyro"
      ]
    },
    {
      "cell_type": "markdown",
      "source": [
        "* データセットのサイズが大きいときは、GPUの方が高速かもしれない。"
      ],
      "metadata": {
        "id": "cCrwHIu1jn6B"
      }
    },
    {
      "cell_type": "code",
      "execution_count": null,
      "metadata": {
        "id": "sXv0EfTJfnTh"
      },
      "outputs": [],
      "source": [
        "import matplotlib.pyplot as plt\n",
        "import numpy as np\n",
        "import pandas as pd\n",
        "import seaborn as sns\n",
        "\n",
        "import jax\n",
        "import jax.numpy as jnp\n",
        "from jax import random\n",
        "import numpyro\n",
        "import numpyro.distributions as dist\n",
        "from numpyro.infer import NUTS, MCMC\n",
        "\n",
        "import arviz as az\n",
        "\n",
        "%config InlineBackend.figure_format = 'retina'\n",
        "plt.style.use(\"bmh\")\n",
        "\n",
        "numpyro.set_platform(\"gpu\")\n",
        "\n",
        "rng_key = random.PRNGKey(0)"
      ]
    },
    {
      "cell_type": "markdown",
      "metadata": {
        "id": "gQvTBgQqA27_"
      },
      "source": [
        "## データセット"
      ]
    },
    {
      "cell_type": "markdown",
      "metadata": {
        "id": "mFUHNdHNa9Sg"
      },
      "source": [
        "* UCI機械学習リポジトリにあるAdult Data Set\n",
        "  * http://archive.ics.uci.edu/ml/datasets/Adult\n",
        "* 個人が年間5万ドルを稼ぐかどうかを予測する。"
      ]
    },
    {
      "cell_type": "code",
      "execution_count": null,
      "metadata": {
        "id": "W9Zh7aYWaw0v"
      },
      "outputs": [],
      "source": [
        "raw_data = pd.read_csv(\n",
        "    \"https://archive.ics.uci.edu/ml/machine-learning-databases/adult/adult.data\",\n",
        "    header=None,\n",
        "    names=[\n",
        "        \"age\",\n",
        "        \"workclass\",\n",
        "        \"fnlwgt\",\n",
        "        \"education-categorical\",\n",
        "        \"educ\",\n",
        "        \"marital-status\",\n",
        "        \"occupation\",\n",
        "        \"relationship\",\n",
        "        \"race\",\n",
        "        \"sex\",\n",
        "        \"captial-gain\",\n",
        "        \"capital-loss\",\n",
        "        \"hours\",\n",
        "        \"native-country\",\n",
        "        \"income\",\n",
        "    ],\n",
        ")"
      ]
    },
    {
      "cell_type": "code",
      "execution_count": null,
      "metadata": {
        "id": "etni6-kdbVhJ"
      },
      "outputs": [],
      "source": [
        "raw_data.head()"
      ]
    },
    {
      "cell_type": "markdown",
      "metadata": {
        "id": "zMU-z1wmcyHY"
      },
      "source": [
        "* `fnlwgt` (final weight) は後から何らかのプログラムによって計算されて追加されたものらしい。"
      ]
    },
    {
      "cell_type": "code",
      "execution_count": null,
      "metadata": {
        "id": "NmjDK9P8bYVg"
      },
      "outputs": [],
      "source": [
        "raw_data.describe()"
      ]
    },
    {
      "cell_type": "code",
      "execution_count": null,
      "metadata": {
        "id": "kwhE6YoDbaCY"
      },
      "outputs": [],
      "source": [
        "raw_data.info()"
      ]
    },
    {
      "cell_type": "markdown",
      "metadata": {
        "id": "jIcfM1bSMAOR"
      },
      "source": [
        "* アメリカのデータに限定して分析する。"
      ]
    },
    {
      "cell_type": "code",
      "execution_count": null,
      "metadata": {
        "id": "9ehvayaaPeng"
      },
      "outputs": [],
      "source": [
        "data_us = raw_data[raw_data[\"native-country\"] == \" United-States\"]"
      ]
    },
    {
      "cell_type": "code",
      "execution_count": null,
      "metadata": {
        "id": "vrMb7tk-blG3"
      },
      "outputs": [],
      "source": [
        "data_us.sample(5)"
      ]
    },
    {
      "cell_type": "markdown",
      "source": [
        "* インスタンス数を確認。"
      ],
      "metadata": {
        "id": "uGG1tWuQjU--"
      }
    },
    {
      "cell_type": "code",
      "source": [
        "data_us.info()"
      ],
      "metadata": {
        "id": "goRh_EdfjR5z"
      },
      "execution_count": null,
      "outputs": []
    },
    {
      "cell_type": "markdown",
      "metadata": {
        "id": "SrDADw0CAgpt"
      },
      "source": [
        "* incomeが50Kドルより大きいか否かという1/0の情報でincome列を置き換える。"
      ]
    },
    {
      "cell_type": "code",
      "execution_count": null,
      "metadata": {
        "id": "3vHwK6KBbzbt"
      },
      "outputs": [],
      "source": [
        "income = 1 * (data_us.income == \" >50K\")\n",
        "income.value_counts()"
      ]
    },
    {
      "cell_type": "markdown",
      "source": [
        "* 特徴量としてはage, educ, hoursだけを取り出す。"
      ],
      "metadata": {
        "id": "_PtcMKfa6Qaj"
      }
    },
    {
      "cell_type": "code",
      "execution_count": null,
      "metadata": {
        "id": "HbS5diWbcDKr"
      },
      "outputs": [],
      "source": [
        "data = data_us[[\"age\", \"educ\", \"hours\"]]"
      ]
    },
    {
      "cell_type": "markdown",
      "metadata": {
        "id": "g6qQX13HSOAP"
      },
      "source": [
        "* 年齢を10で割っておく。\n",
        "  * こうしたほうが、convergenceが良くなるらしい。\n",
        "  * NumPyroによるMCMCの実行速度も速くなるようだ。\n",
        "* 10で割った年齢の2乗を新たな特徴量として追加する。\n",
        "  * なぜ？ （ヒント: 係数はマイナスになることを想定している。）"
      ]
    },
    {
      "cell_type": "code",
      "execution_count": null,
      "metadata": {
        "id": "K60Ud0R4dmCx"
      },
      "outputs": [],
      "source": [
        "data[\"age\"] = data[\"age\"] / 10\n",
        "data[\"age2\"] = data[\"age\"] ** 2\n",
        "# incomeの列が最後に来るようにするためここで代入している。\n",
        "data.loc[:,\"income\"] = income"
      ]
    },
    {
      "cell_type": "code",
      "execution_count": null,
      "metadata": {
        "id": "jQGBechqXks1"
      },
      "outputs": [],
      "source": [
        "data[\"educ\"].value_counts().sort_index()"
      ]
    },
    {
      "cell_type": "code",
      "execution_count": null,
      "metadata": {
        "id": "KvRmTvVhFwqw"
      },
      "outputs": [],
      "source": [
        "data.describe()"
      ]
    },
    {
      "cell_type": "markdown",
      "metadata": {
        "id": "4UsZaouxA-WJ"
      },
      "source": [
        "## EDA"
      ]
    },
    {
      "cell_type": "code",
      "execution_count": null,
      "metadata": {
        "id": "kzedNGsYdzS1"
      },
      "outputs": [],
      "source": [
        "sns.pairplot(data);"
      ]
    },
    {
      "cell_type": "code",
      "execution_count": null,
      "metadata": {
        "id": "wS_rBah_A6s-"
      },
      "outputs": [],
      "source": [
        "# Compute the correlation matrix\n",
        "corr = data.corr()\n",
        "\n",
        "# Generate a mask for the upper triangle\n",
        "mask = np.zeros_like(corr, dtype=np.bool_)\n",
        "mask[np.triu_indices_from(mask)] = True\n",
        "\n",
        "# Set up the matplotlib figure\n",
        "f, ax = plt.subplots(figsize=(7, 6))\n",
        "\n",
        "# Generate a custom diverging colormap\n",
        "cmap = sns.diverging_palette(220, 10, as_cmap=True)\n",
        "\n",
        "# Draw the heatmap with the mask and correct aspect ratio\n",
        "sns.heatmap(\n",
        "    corr,\n",
        "    mask=mask,\n",
        "    cmap=cmap,\n",
        "    vmax=1.0,\n",
        "    linewidths=0.5,\n",
        "    cbar_kws={\"shrink\": 0.5},\n",
        "    annot=True,\n",
        "    ax=ax,\n",
        ");"
      ]
    },
    {
      "cell_type": "markdown",
      "metadata": {
        "id": "gc1oTwZRBN1j"
      },
      "source": [
        "## モデル\n",
        "* incomeを目的変数とする。1/0の情報をベルヌーイ分布でモデリング。\n",
        "* そのベルヌーイ分布のパラメータである1が出る確率を、線形モデルでモデル化。\n",
        "* 確率なので、リンク関数はlogit関数。\n",
        "  * logit関数は、ロジスティック関数の逆関数。\n",
        "  * 線形モデルの出力を、ロジスティック関数に与えて、確率に変換。\n",
        "* 線形モデルでは、各個人のage, educ, hours特徴量を使用。\n",
        "  * ただし、上述のように、ageの2乗も説明変数として追加されている。"
      ]
    },
    {
      "cell_type": "markdown",
      "metadata": {
        "id": "U7TeqcF0CLrp"
      },
      "source": [
        "$$ z_i = \\beta_0 + \\beta_1 X_{age} + \\beta_2 X_{age^2} + \\beta_3 X_{educ} + \\beta_4 X_{hours} $$\n",
        "$$ y_i \\sim \\text{Bernoulli}(p_i) \\ \\ \\mbox{where} \\ p_i = \\frac{1}{1 + e^{-z_i}}$$"
      ]
    },
    {
      "cell_type": "markdown",
      "metadata": {
        "id": "mcyr9m4wPBAz"
      },
      "source": [
        "* NumPyroでロジスティック回帰を書く方法\n",
        " * https://num.pyro.ai/en/stable/handlers.html"
      ]
    },
    {
      "cell_type": "code",
      "execution_count": null,
      "metadata": {
        "id": "IkhkReolCxnG"
      },
      "outputs": [],
      "source": [
        "def model(data, labels=None, num_features=1):\n",
        "  coefs = numpyro.sample('coefs', dist.Normal(jnp.zeros(num_features), jnp.ones(num_features)))\n",
        "  intercept = numpyro.sample('intercept', dist.Normal(0., 10.))\n",
        "  logits = jnp.sum(coefs * data, axis=-1) + intercept\n",
        "  return numpyro.sample('obs', dist.Bernoulli(logits=logits), obs=labels)"
      ]
    },
    {
      "cell_type": "markdown",
      "metadata": {
        "id": "jRkvzUQSEbnv"
      },
      "source": [
        "## MCMC"
      ]
    },
    {
      "cell_type": "code",
      "execution_count": null,
      "metadata": {
        "id": "WBNo1OTeNFKq"
      },
      "outputs": [],
      "source": [
        "features = [\"age\", \"educ\", \"hours\", \"age2\"]\n",
        "X = data[features].values.astype(float)\n",
        "y = data.income.values.astype(int)"
      ]
    },
    {
      "cell_type": "code",
      "execution_count": null,
      "metadata": {
        "id": "x6T1yK7rC3yw"
      },
      "outputs": [],
      "source": [
        "rng_key, rng_key_ = random.split(rng_key)\n",
        "kernel = NUTS(model)\n",
        "mcmc = MCMC(kernel, num_warmup=1000, num_samples=2000, num_chains=2)\n",
        "mcmc.run(rng_key_, data=X, labels=y, num_features=len(features))"
      ]
    },
    {
      "cell_type": "markdown",
      "metadata": {
        "id": "klFxDWYrHQQA"
      },
      "source": [
        "## サンプルの可視化"
      ]
    },
    {
      "cell_type": "code",
      "execution_count": null,
      "metadata": {
        "id": "NuWal4vqNO9l"
      },
      "outputs": [],
      "source": [
        "mcmc.print_summary()"
      ]
    },
    {
      "cell_type": "code",
      "execution_count": null,
      "metadata": {
        "id": "ItVTw8BxNRK_"
      },
      "outputs": [],
      "source": [
        "fitted = az.from_numpyro(mcmc)"
      ]
    },
    {
      "cell_type": "code",
      "execution_count": null,
      "metadata": {
        "id": "Q65L3zpKNI3t"
      },
      "outputs": [],
      "source": [
        "az.plot_trace(fitted, compact=False);"
      ]
    },
    {
      "cell_type": "code",
      "execution_count": null,
      "metadata": {
        "id": "ctycqI9U96lk"
      },
      "outputs": [],
      "source": [
        "az.summary(fitted)"
      ]
    },
    {
      "cell_type": "markdown",
      "metadata": {
        "id": "3MX41i7fKODl"
      },
      "source": [
        "> One of the major benefits that makes Bayesian data analysis worth the extra computational effort in many circumstances is that we can be explicit about our uncertainty. Maximum likelihood returns a number, but how certain can we be that we found the right number? Instead, Bayesian inference returns a distribution over parameter values.\n",
        "\n",
        "* https://docs.pymc.io/en/v3/pymc-examples/examples/generalized_linear_models/GLM-logistic.html#Some-results\n",
        "  * このURLは、現在は無効となっている。"
      ]
    },
    {
      "cell_type": "markdown",
      "metadata": {
        "id": "-RsQhpSa12_R"
      },
      "source": [
        "* featureごとにサンプルを分ける。"
      ]
    },
    {
      "cell_type": "code",
      "execution_count": null,
      "metadata": {
        "id": "9WwXn65XlKFE"
      },
      "outputs": [],
      "source": [
        "trace = {}\n",
        "for feature in features:\n",
        "  trace[feature] = np.array(\n",
        "      mcmc.get_samples()[\"coefs\"][:,features.index(feature)]\n",
        "  )\n",
        "trace[\"intercept\"] = np.array(mcmc.get_samples()[\"intercept\"])"
      ]
    },
    {
      "cell_type": "markdown",
      "metadata": {
        "id": "Q4XwOH8laCB5"
      },
      "source": [
        "* 年齢の係数のサンプルと教育年数の係数のサンプルとで、joint plotを描いてみる。"
      ]
    },
    {
      "cell_type": "code",
      "execution_count": null,
      "metadata": {
        "id": "uv_JykIOMyPk"
      },
      "outputs": [],
      "source": [
        "plt.figure(figsize=(9, 7))\n",
        "sns.jointplot(x=trace[\"age\"], y=trace[\"educ\"], kind=\"hex\", color=\"#4CB391\")\n",
        "plt.xlabel(\"beta_age\")\n",
        "plt.ylabel(\"beta_educ\");"
      ]
    },
    {
      "cell_type": "markdown",
      "metadata": {
        "id": "1nX7jQ02N7TT"
      },
      "source": [
        "* ロジットの差はオッズ比の対数に当たる。\n",
        "$$\\log\\Big(\\frac{p}{1-p}\\Big) - \\log\\Big(\\frac{p^\\prime}{1-p^\\prime}\\Big) = \\log \\frac{ p / (1-p) }{ p^\\prime / (1 - p^\\prime) }$$\n",
        "* よって、GLMでリンク関数がlogit関数のとき、**線形モデルの係数のexponentialは、オッズ比**の意味を持つ。\n",
        "  * その係数に対応する説明変数の値が1増えると、線形モデルの出力が係数分だけ増える。\n",
        "  * つまり、係数の値のexponentialは、その係数に対応する説明変数の値が1増えたときの、増やす前に対する、オッズ比。"
      ]
    },
    {
      "cell_type": "code",
      "execution_count": null,
      "metadata": {
        "id": "cPgrOS_9NruU"
      },
      "outputs": [],
      "source": [
        "plt.hist(np.exp(trace[\"educ\"]), bins=20, density=True)\n",
        "plt.xlabel(\"Odds Ratio\");"
      ]
    },
    {
      "cell_type": "code",
      "execution_count": null,
      "metadata": {
        "id": "C-eLZF6xPUPa"
      },
      "outputs": [],
      "source": [
        "lb, ub = np.percentile(trace[\"educ\"], 2.5), np.percentile(trace[\"educ\"], 97.5)\n",
        "print(f\"P({np.exp(lb):.3f} < O.R. < {np.exp(ub):.3f}) = 0.95\")"
      ]
    },
    {
      "cell_type": "markdown",
      "metadata": {
        "id": "is3XuWkhU8bD"
      },
      "source": [
        "## 予測のためのスパゲッティ・プロット"
      ]
    },
    {
      "cell_type": "markdown",
      "metadata": {
        "id": "Q2gOG4qYWvkH"
      },
      "source": [
        "* incomeが50Kドルを超える確率を、横軸を年齢にして、プロットする。\n",
        "  * 教育年数が異なると、確率がどのように異なるかを見る。\n",
        "  * 労働時間は50時間で固定する。\n"
      ]
    },
    {
      "cell_type": "code",
      "execution_count": null,
      "metadata": {
        "id": "1c7CQ6MjGUiB"
      },
      "outputs": [],
      "source": [
        "age = np.linspace(20, 80, 61) / 10.0\n",
        "new_data = pd.DataFrame({\n",
        "    \"age\": np.tile(age, 3),\n",
        "    \"educ\": np.repeat([12, 16, 19], len(age)),\n",
        "    \"hours\": 50.0,\n",
        "    \"age2\": np.tile(age, 3) ** 2,\n",
        "})"
      ]
    },
    {
      "cell_type": "code",
      "execution_count": null,
      "metadata": {
        "id": "mKTr-xGTVG2i"
      },
      "outputs": [],
      "source": [
        "new_data"
      ]
    },
    {
      "cell_type": "code",
      "execution_count": null,
      "metadata": {
        "id": "LIFJN8E5gk86"
      },
      "outputs": [],
      "source": [
        "posterior_logit = jnp.expand_dims(trace[\"intercept\"], 0)\n",
        "for column in data.columns:\n",
        "  if column == \"income\": continue\n",
        "  posterior_logit += (\n",
        "      jnp.expand_dims(new_data[column].values, -1)\n",
        "      * jnp.expand_dims(trace[column], 0)\n",
        "  )"
      ]
    },
    {
      "cell_type": "code",
      "execution_count": null,
      "metadata": {
        "id": "f5PnNijeiDd3"
      },
      "outputs": [],
      "source": [
        "posterior_logit = posterior_logit[:, ::20]"
      ]
    },
    {
      "cell_type": "code",
      "execution_count": null,
      "metadata": {
        "id": "GWxzFxBsiO6n"
      },
      "outputs": [],
      "source": [
        "posterior_logit.shape"
      ]
    },
    {
      "cell_type": "markdown",
      "source": [
        "* 教育年数で色分けしてプロットする。"
      ],
      "metadata": {
        "id": "Bb8tEizO6kWr"
      }
    },
    {
      "cell_type": "code",
      "execution_count": null,
      "metadata": {
        "id": "eJbvyUTUiFDN"
      },
      "outputs": [],
      "source": [
        "def my_plot(ax, xs, ys, *args, **kwargs):\n",
        "  ax.plot(xs,ys, *args, **kwargs)\n",
        "  if \"label\" in kwargs.keys():\n",
        "    handles, labels = plt.gca().get_legend_handles_labels()\n",
        "    newLabels, newHandles = [], []\n",
        "    for handle, label in zip(handles, labels):\n",
        "      if label not in newLabels: # remove duplicates\n",
        "        newLabels.append(label)\n",
        "        newHandles.append(handle)\n",
        "        handle.set_alpha(1) # set alpha=1 for legend\n",
        "    plt.legend(newHandles, newLabels)\n",
        "\n",
        "\n",
        "_, ax = plt.subplots(figsize=(7, 5))\n",
        "\n",
        "for i, educ in enumerate([12, 16, 19]):\n",
        "    idx = new_data.index[new_data[\"educ\"] == educ].tolist()\n",
        "    my_plot(\n",
        "        ax,\n",
        "        age * 10, 1 / (1 + np.exp(- posterior_logit[idx,:])),\n",
        "        alpha=0.04,\n",
        "        label=f\"educ={i}\",\n",
        "        color=f\"C{i}\",\n",
        "    )\n",
        "\n",
        "ax.set_ylabel(\"P(income > 50K | age)\")\n",
        "ax.set_xlabel(\"Age\")\n",
        "ax.set_ylim(0, 1)\n",
        "ax.set_xlim(20, 80);"
      ]
    },
    {
      "cell_type": "code",
      "execution_count": null,
      "metadata": {
        "id": "Wyh9J_kZ2hxO"
      },
      "outputs": [],
      "source": []
    }
  ],
  "metadata": {
    "colab": {
      "provenance": [],
      "gpuType": "T4",
      "authorship_tag": "ABX9TyPqnPEYI8Zw7cqIFuVVVMPg",
      "include_colab_link": true
    },
    "kernelspec": {
      "display_name": "Python 3",
      "name": "python3"
    },
    "language_info": {
      "name": "python"
    },
    "accelerator": "GPU"
  },
  "nbformat": 4,
  "nbformat_minor": 0
}