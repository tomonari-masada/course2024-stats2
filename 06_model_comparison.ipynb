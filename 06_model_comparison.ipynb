{
  "nbformat": 4,
  "nbformat_minor": 0,
  "metadata": {
    "colab": {
      "provenance": [],
      "authorship_tag": "ABX9TyNLqbqBXIdZroVCQvFziyms",
      "include_colab_link": true
    },
    "kernelspec": {
      "name": "python3",
      "display_name": "Python 3"
    }
  },
  "cells": [
    {
      "cell_type": "markdown",
      "metadata": {
        "id": "view-in-github",
        "colab_type": "text"
      },
      "source": [
        "<a href=\"https://colab.research.google.com/github/tomonari-masada/course2024-stats2/blob/main/06_model_comparison.ipynb\" target=\"_parent\"><img src=\"https://colab.research.google.com/assets/colab-badge.svg\" alt=\"Open In Colab\"/></a>"
      ]
    },
    {
      "cell_type": "markdown",
      "metadata": {
        "id": "08iBZ0Vowd_4"
      },
      "source": [
        "# モデルの比較\n",
        "* モデルを比較する方法を説明する。\n",
        "* 参考資料\n",
        "  * https://github.com/asuagar/statrethink-course-numpyro-2019/blob/main/statrethink_numpyro_w04.ipynb\n",
        "* 例題として、事前分布の決め方が分析結果にどう影響するかを見つつ、モデルの比較を行なう。\n"
      ]
    },
    {
      "cell_type": "markdown",
      "metadata": {
        "id": "oLYfYyMGlNKR"
      },
      "source": [
        "## 準備"
      ]
    },
    {
      "cell_type": "code",
      "source": [
        "!pip install git+https://github.com/pyro-ppl/numpyro.git"
      ],
      "metadata": {
        "id": "UbkHfiEqkCSh"
      },
      "execution_count": null,
      "outputs": []
    },
    {
      "cell_type": "code",
      "metadata": {
        "id": "v6EEHa0kwnQY"
      },
      "source": [
        "import matplotlib.pyplot as plt\n",
        "import numpy as np\n",
        "import pandas as pd\n",
        "import seaborn as sns\n",
        "\n",
        "import jax\n",
        "import jax.numpy as jnp\n",
        "from jax import random\n",
        "import numpyro\n",
        "from numpyro.diagnostics import hpdi\n",
        "import numpyro.distributions as dist\n",
        "from numpyro.infer import NUTS, MCMC, Predictive\n",
        "\n",
        "import arviz as az\n",
        "\n",
        "%config InlineBackend.figure_format = 'retina'\n",
        "\n",
        "plt.style.use(\"bmh\")\n",
        "az.style.use(\"arviz-darkgrid\")\n",
        "numpyro.set_platform(\"cpu\")\n",
        "\n",
        "rng_key = random.PRNGKey(0)"
      ],
      "execution_count": null,
      "outputs": []
    },
    {
      "cell_type": "markdown",
      "metadata": {
        "id": "nBGAcwG0lcfE"
      },
      "source": [
        "## 例題: Rosenthal and Jacobson (1968)\n",
        "* 「統計モデリング1」で紹介だけした。\n",
        "  * https://github.com/tomonari-masada/course2022-stats1/blob/main/06_normal_2.pdf\n",
        "* データは原論文のものではなく、それに似せて作ったもの。\n",
        "  * [STA 360/602: Bayesian Methods and Modern Statistics @ Duke University](http://www2.stat.duke.edu/~rcs46/bayes17.html)のModule 4より拝借。\n",
        "* 明らかにしたいこと： 教師が期待をかけるか否かで学生の学修に影響があるか？\n",
        "* つまり、$P(\\mu_s > \\mu_c | \\mathbf{x}_s, \\mathbf{x}_c)$を知りたい。\n",
        "  * $\\mathbf{x}_s \\equiv \\{ x_{s,1}, \\ldots, x_{s,N_s}\\}$: spurters（期待をかけられた学生たち）のIQ変化量データ群\n",
        "  * $\\mathbf{x}_c \\equiv \\{ x_{c,1}, \\ldots, x_{c,N_c}\\}$: controls（その他の学生たち）のIQ変化量データ群\n"
      ]
    },
    {
      "cell_type": "markdown",
      "metadata": {
        "id": "FehoCxKxm4vK"
      },
      "source": [
        "### データ\n",
        "* 数値は、実験開始直前からのIQの変化量を表す。"
      ]
    },
    {
      "cell_type": "code",
      "metadata": {
        "id": "Ndd973sLz6pG"
      },
      "source": [
        "x_s = [18, 40, 15, 17, 20, 44, 38]\n",
        "x_c = [-4, 0, -19, 24, 19, 10, 5, 10,\n",
        "       29, 13, -9, -8, 20, -1, 12, 21,\n",
        "       -7, 14, 13, 20, 11, 16, 15, 27,\n",
        "       23, 36, -33, 34, 13, 11, -19, 21,\n",
        "       6, 25, 30,22, -28, 15, 26, -1, -2,\n",
        "       43, 23, 22, 25, 16, 10, 29]"
      ],
      "execution_count": null,
      "outputs": []
    },
    {
      "cell_type": "markdown",
      "metadata": {
        "id": "TJAY8fmXwAVz"
      },
      "source": [
        "* データを一つのデータフレームにまとめる。"
      ]
    },
    {
      "cell_type": "code",
      "source": [
        "df = pd.DataFrame(\n",
        "    [{\"group\":\"spurters\", \"value\":val} for val in x_s]\n",
        "    +\n",
        "    [{\"group\":\"controls\", \"value\":val} for val in x_c]\n",
        ")"
      ],
      "metadata": {
        "id": "0hPoz0rxlTmq"
      },
      "execution_count": null,
      "outputs": []
    },
    {
      "cell_type": "code",
      "source": [
        "df"
      ],
      "metadata": {
        "id": "_EBwlkYMGEmj"
      },
      "execution_count": null,
      "outputs": []
    },
    {
      "cell_type": "markdown",
      "source": [
        "* ヒストグラムを描く。"
      ],
      "metadata": {
        "id": "mP3FXoXknFal"
      }
    },
    {
      "cell_type": "code",
      "metadata": {
        "id": "u-us8nBUnqkl"
      },
      "source": [
        "sns.histplot(data=df, x=\"value\", bins=np.linspace(-35, 45, 33), hue=\"group\")\n",
        "plt.xlim(-35, 45)\n",
        "plt.xlabel('Change in IQ Score')\n",
        "plt.ylabel('count')\n",
        "plt.title('Histogram of Change in IQ Scores');"
      ],
      "execution_count": null,
      "outputs": []
    },
    {
      "cell_type": "markdown",
      "metadata": {
        "id": "uBSTe7Cdo9Xv"
      },
      "source": [
        "### モデル\n",
        "* 各グループの変化量は異なる正規分布に従うと仮定する。\n",
        "  * spurtersの変化量のモデル: $x_s \\sim N(\\mu_s, \\lambda_s^{-1})$\n",
        "  * controlsの変化量のモデル: $x_c \\sim N(\\mu_c, \\lambda_c^{-1})$\n",
        "* 各グループの正規分布の平均パラメータは、同じ正規分布に従うと仮定する。\n",
        "  * $\\mu_s, \\mu_c \\sim N(\\mu_0, \\sigma_0^2)$\n",
        "* 各グループの正規分布の精度（分散の逆数）パラメータは、同じガンマ分布に従うと仮定する。\n",
        "  * $\\lambda_s, \\lambda_c \\sim \\text{Gam}(\\alpha, \\beta)$\n",
        "* $N(\\mu_0, \\sigma_0^2)$と$\\text{Gam}(\\alpha, \\beta)$が、事前分布。"
      ]
    },
    {
      "cell_type": "markdown",
      "metadata": {
        "id": "PUWD6lqHC4yp"
      },
      "source": [
        "### ハイパーパラメータの決め方\n",
        "* 事前分布のパラメータをハイパーパラメータと呼ぶ。\n"
      ]
    },
    {
      "cell_type": "markdown",
      "metadata": {
        "id": "ET29JahuxBUy"
      },
      "source": [
        "* 精度パラメータが従うガンマ分布$\\text{Gam}(\\alpha, \\beta)$については、[STA 360/602: Bayesian Methods and Modern Statistics @ Duke University](http://www2.stat.duke.edu/~rcs46/bayes17.html)のModule 4の決め方を踏襲する。\n",
        "  * $\\alpha = \\frac{1}{2}$\n",
        "  * $\\beta = 10^2\\alpha$\n",
        "* この設定は、以下の議論で固定しておく。"
      ]
    },
    {
      "cell_type": "markdown",
      "metadata": {
        "id": "yDAefuGTD_ee"
      },
      "source": [
        "### 問題\n",
        "* $\\text{Gam}(\\alpha, \\beta)$のパラメータを上のように決めると、IQ変化量の分散ついて、どのように仮定していることになるか？\n",
        "  * ヒント1: $\\text{Gam}(\\alpha, \\beta)$がモデリングしているのは、精度、つまり、分散の逆数であることに注意しよう。\n",
        "  * ヒント2: $\\text{Gam}(\\alpha, \\beta)$に従う確率変数の値の平均は、$\\frac{\\alpha}{\\beta}$である。"
      ]
    },
    {
      "cell_type": "markdown",
      "metadata": {
        "id": "34REq1_dBJ_7"
      },
      "source": [
        "## 事前分布 (1)\n",
        "* 平均パラメータが従う正規分布$\\mu \\sim N(\\mu_0, \\sigma_0^2)$について、まずは以下のように設定してみる。\n"
      ]
    },
    {
      "cell_type": "markdown",
      "metadata": {
        "id": "gJj9AZwRNOZv"
      },
      "source": [
        "### 事前分布の平均パラメータ$\\mu_0$の設定\n",
        "* $\\mu_0 = 0$とする。\n",
        "  * なぜなら、IQの変化量の平均が、増えるのか、減るのか、全く分からないから。"
      ]
    },
    {
      "cell_type": "markdown",
      "metadata": {
        "id": "ApxXdDqiNagx"
      },
      "source": [
        "### 事前分布の分散パラメータ$\\sigma_0^2$の設定\n",
        "* $\\sigma_0 = 1$とする。\n",
        "  * これは、ざっくり言うと、どういうお気持ちを表しているか？\n"
      ]
    },
    {
      "cell_type": "markdown",
      "metadata": {
        "id": "ZWfux96qwlyI"
      },
      "source": [
        "* 考察をしやすくするために、観測データが従う正規分布$N(\\mu, \\sigma^2)$の分散$\\sigma^2$を固定する。\n",
        "* すると、$\\mu$の事後分布の分散は$(\\frac{1}{\\sigma_0^2} + \\frac{n}{\\sigma^2})^{-1}$となる。\n",
        "  * $n$は観測データの個数。\n",
        "* $\\sigma_0$を大きくすると、$n$個の観測データで決まる$\\frac{n}{\\sigma^2}$の項のほうが支配的となる。\n",
        "* $\\sigma_0$を小さくすると、$\\frac{1}{\\sigma_0^2}$の項のほうが支配的となる。\n",
        "* $\\sigma_0=1$という仮定は、ざっくり言って、これらの中間。\n",
        "* つまり、IQ変化量の平均$\\mu$がどのくらいバラつくかという不確かさについて、（非常にざっくり言って）事前分布が観測データ一個分と同程度の寄与をする、と仮定している。\n",
        " * 観測データ0個分でもなく、全観測データ以上分でもない、ということ。"
      ]
    },
    {
      "cell_type": "markdown",
      "metadata": {
        "id": "FErAq4umOuB9"
      },
      "source": [
        "### モデルの実装"
      ]
    },
    {
      "cell_type": "code",
      "metadata": {
        "id": "bOHc-bPYwqIR"
      },
      "source": [
        "def model(mu_0=0, sd_0=1, alpha=0.5, x_s=None, x_c=None):\n",
        "  lambda_s = numpyro.sample(\"lambda_s\", dist.Gamma(alpha, 100*alpha))\n",
        "  lambda_c = numpyro.sample(\"lambda_c\", dist.Gamma(alpha, 100*alpha))\n",
        "  mu_s = numpyro.sample(\"mu_s\", dist.Normal(mu_0, sd_0))\n",
        "  mu_c = numpyro.sample(\"mu_c\", dist.Normal(mu_0, sd_0))\n",
        "  obs_s = numpyro.sample(\"obs_s\", dist.Normal(mu_s, jnp.sqrt(1/lambda_s)), obs=x_s)\n",
        "  obs_c = numpyro.sample(\"obs_c\", dist.Normal(mu_c, jnp.sqrt(1/lambda_c)), obs=x_c)"
      ],
      "execution_count": null,
      "outputs": []
    },
    {
      "cell_type": "markdown",
      "metadata": {
        "id": "pzZ14YdHpuOF"
      },
      "source": [
        "### MCMC"
      ]
    },
    {
      "cell_type": "code",
      "metadata": {
        "id": "1nQWALm_0JAl"
      },
      "source": [
        "mu_0 = 0.0\n",
        "sd_0 = 1.0\n",
        "alpha = 0.5\n",
        "\n",
        "rng_key, rng_key_ = random.split(rng_key)\n",
        "mcmc = MCMC(NUTS(model), num_warmup=1000, num_samples=2000, num_chains=4)\n",
        "mcmc.run(\n",
        "    rng_key_,\n",
        "    mu_0=mu_0, sd_0=sd_0, alpha=alpha,\n",
        "    x_s=df[df.group==\"spurters\"].value.values,\n",
        "    x_c=df[df.group==\"controls\"].value.values,\n",
        ")"
      ],
      "execution_count": null,
      "outputs": []
    },
    {
      "cell_type": "markdown",
      "metadata": {
        "id": "6iUxS7YRrDHG"
      },
      "source": [
        "### サンプルのチェック"
      ]
    },
    {
      "cell_type": "code",
      "source": [
        "mcmc.print_summary()"
      ],
      "metadata": {
        "id": "XItg4uYNp6cH"
      },
      "execution_count": null,
      "outputs": []
    },
    {
      "cell_type": "code",
      "metadata": {
        "id": "dDRVYaVlrBet"
      },
      "source": [
        "samples_1 = az.from_numpyro(mcmc)"
      ],
      "execution_count": null,
      "outputs": []
    },
    {
      "cell_type": "code",
      "source": [
        "az.plot_trace(samples_1);"
      ],
      "metadata": {
        "id": "HbLb1xm5HJjL"
      },
      "execution_count": null,
      "outputs": []
    },
    {
      "cell_type": "code",
      "metadata": {
        "id": "T5XlddkzqJH-"
      },
      "source": [
        "az.plot_autocorr(samples_1, combined=True, figsize=(16,3));"
      ],
      "execution_count": null,
      "outputs": []
    },
    {
      "cell_type": "markdown",
      "source": [
        "* この設定の下で、$p(\\mu_s > \\mu_c | \\mathbf{x}_s, \\mathbf{x}_c)$を求めてみる。"
      ],
      "metadata": {
        "id": "Rw3GibE4yPR3"
      }
    },
    {
      "cell_type": "code",
      "metadata": {
        "id": "tFrJDonN02LJ"
      },
      "source": [
        "posterior = samples_1.posterior\n",
        "n_samples = posterior.dims['chain'] * posterior.dims['draw']\n",
        "(posterior.mu_s > posterior.mu_c).sum().data / n_samples"
      ],
      "execution_count": null,
      "outputs": []
    },
    {
      "cell_type": "markdown",
      "metadata": {
        "id": "lXv2sJO3RlBI"
      },
      "source": [
        "* $\\mu_s > \\mu_c$の確率が0.2前後\n",
        " * 学生に期待をかけないほうがいい？"
      ]
    },
    {
      "cell_type": "markdown",
      "metadata": {
        "id": "_9q9avdiR_GP"
      },
      "source": [
        "## 事前分布 (2)\n",
        "* ハイパーパラメータの決め方を考え直す。"
      ]
    },
    {
      "cell_type": "markdown",
      "metadata": {
        "id": "IuuEEX4Nw-Ge"
      },
      "source": [
        "### 事前分布の平均パラメータ$\\mu_0$の設定\n",
        "* $\\mu_0$を観測データの平均値とする。\n",
        "  * なぜなら、一定期間教育を受ければ、そもそもIQは増えるものであるから。\n",
        "  * この意味で、$\\mu_0 = 0$という設定は、おかしかった。\n",
        "  * しかし、どのくらい増えるものかについて、観測データ以外に手がかりがない。\n",
        "  * そのため、観測データの単純平均を使うことにする。"
      ]
    },
    {
      "cell_type": "markdown",
      "metadata": {
        "id": "pieKwyY8S0Iw"
      },
      "source": [
        "### 事前分布の分散パラメータ$\\sigma_0^2$の設定\n",
        "* $\\sigma_0 = 100$と、大きめの値に設定する。\n",
        "  * つまり、IQ変化量の平均がどのくらいバラつくかという不確かさについては、観測データに決めてもらう、ということ。"
      ]
    },
    {
      "cell_type": "markdown",
      "metadata": {
        "id": "O7pn2-A0TLCN"
      },
      "source": [
        "### MCMC"
      ]
    },
    {
      "cell_type": "code",
      "metadata": {
        "id": "Vr5w-3n6wSEe"
      },
      "source": [
        "mu_0 = np.array(x_s + x_c).mean()\n",
        "sd_0 = 100.0\n",
        "alpha = 0.5\n",
        "\n",
        "rng_key, rng_key_ = random.split(rng_key)\n",
        "mcmc = MCMC(NUTS(model), num_warmup=1000, num_samples=2000, num_chains=4)\n",
        "mcmc.run(\n",
        "    rng_key_,\n",
        "    mu_0=mu_0, sd_0=sd_0, alpha=alpha,\n",
        "    x_s=df[df.group==\"spurters\"].value.values,\n",
        "    x_c=df[df.group==\"controls\"].value.values,\n",
        ")"
      ],
      "execution_count": null,
      "outputs": []
    },
    {
      "cell_type": "code",
      "source": [
        "mcmc.print_summary()"
      ],
      "metadata": {
        "id": "C4E5siMMsC72"
      },
      "execution_count": null,
      "outputs": []
    },
    {
      "cell_type": "markdown",
      "metadata": {
        "id": "ndudXjWCT2N7"
      },
      "source": [
        "### サンプルのチェック"
      ]
    },
    {
      "cell_type": "code",
      "metadata": {
        "id": "WyFvPlgjwbYl"
      },
      "source": [
        "samples_2 = az.from_numpyro(mcmc)"
      ],
      "execution_count": null,
      "outputs": []
    },
    {
      "cell_type": "code",
      "source": [
        "az.plot_trace(samples_2);"
      ],
      "metadata": {
        "id": "groOKBVbHlrq"
      },
      "execution_count": null,
      "outputs": []
    },
    {
      "cell_type": "code",
      "metadata": {
        "id": "IE3fLh9bVX27"
      },
      "source": [
        "az.plot_autocorr(samples_2, combined=True, figsize=(16,3));"
      ],
      "execution_count": null,
      "outputs": []
    },
    {
      "cell_type": "markdown",
      "source": [
        "* この設定の下で、$p(\\mu_s > \\mu_c | \\mathbf{x}_s, \\mathbf{x}_c)$を求めてみる。"
      ],
      "metadata": {
        "id": "jR4AmUWwyhd_"
      }
    },
    {
      "cell_type": "code",
      "metadata": {
        "id": "bWc7j_pTwhq-"
      },
      "source": [
        "posterior = samples_2.posterior\n",
        "n_samples = posterior.dims['chain'] * posterior.dims['draw']\n",
        "(posterior.mu_s > posterior.mu_c).sum().data / n_samples"
      ],
      "execution_count": null,
      "outputs": []
    },
    {
      "cell_type": "markdown",
      "metadata": {
        "id": "lRstfieQT-gq"
      },
      "source": [
        "* 先ほどと真逆の結果。"
      ]
    },
    {
      "cell_type": "markdown",
      "source": [
        "## モデルの比較\n",
        "* 上の二通りの事前分布の設定方法のうち、どちらが良いかを調べてみる。\n",
        "* ArviZの`compare`関数を使う。\n",
        "  * https://python.arviz.org/en/stable/api/generated/arviz.compare.html\n",
        "* 理論的な説明は https://arxiv.org/abs/1507.04544 を参照。"
      ],
      "metadata": {
        "id": "PqmfiiVWtK3v"
      }
    },
    {
      "cell_type": "markdown",
      "source": [
        "* ArviZの`compare`関数を使うと、leave-one-out法による評価ができる。\n",
        "* ベイズ的モデリングにおけるleave-one-out法は、以下のようなものである。\n",
        "  * データセットのうち、一個のデータ点を除外する。\n",
        "  * 残ったデータセットを所与とする事後分布をinferする。\n",
        "  * その事後分布によって、除外した一個のデータ点の対数予測確率を求める。\n",
        "  * このような予測確率の計算において、どの一個のデータ点を除外するかについて、あらゆる場合を考える。\n",
        "  * 各々のデータ点の対数予測確率の総和を、評価値とする。\n",
        "* 対数予測確率の総和が大きいほど、モデルがデータ集合をよく説明する、と考える。\n",
        "* 以上がelpd_looの直感的な説明である。"
      ],
      "metadata": {
        "id": "qcdV9eGZIKKL"
      }
    },
    {
      "cell_type": "markdown",
      "source": [
        "* 上掲論文によると、elpdは以下のように定義される評価値である。\n",
        "$$\\begin{align}\n",
        "\\text{elpd}_{\\text{loo}} = \\sum_{i=1}^N \\log p( x_i | x_{- i} )\n",
        "\\end{align}$$\n",
        "where\n",
        "$$\\begin{align}\n",
        "p( x_i | x_{- i} ) = \\int p(x_i | \\theta) p( \\theta | x_{-i}) d\\theta\n",
        "\\end{align}$$\n",
        "* この計算を、実際には、事後分布からのサンプルを使って近似的に行なっている。\n"
      ],
      "metadata": {
        "id": "Ro8AcCfkvgyt"
      }
    },
    {
      "cell_type": "markdown",
      "source": [
        "* まず、spurtersのデータ`obs_s`の予測確率を使って比較する。"
      ],
      "metadata": {
        "id": "frWMfNK4wqDx"
      }
    },
    {
      "cell_type": "code",
      "source": [
        "az.compare({'model_1': samples_1, 'model_2': samples_2}, var_name=\"obs_s\")"
      ],
      "metadata": {
        "id": "jorEJ9vbtHa1"
      },
      "execution_count": null,
      "outputs": []
    },
    {
      "cell_type": "code",
      "source": [
        "az.plot_compare(az.compare({'model_1': samples_1, 'model_2': samples_2}, var_name=\"obs_s\"));"
      ],
      "metadata": {
        "id": "37SSrjfqjr5L"
      },
      "execution_count": null,
      "outputs": []
    },
    {
      "cell_type": "markdown",
      "source": [
        "* 次に、controlsのデータ`obs_c`の予測確率を使って比較する。"
      ],
      "metadata": {
        "id": "mwNtGKPJwwS1"
      }
    },
    {
      "cell_type": "code",
      "source": [
        "az.compare({'model_1': samples_1, 'model_2': samples_2}, var_name=\"obs_c\")"
      ],
      "metadata": {
        "id": "Zf8CEugWsmAw"
      },
      "execution_count": null,
      "outputs": []
    },
    {
      "cell_type": "code",
      "source": [
        "az.plot_compare(az.compare({'model_1': samples_1, 'model_2': samples_2}, var_name=\"obs_c\"));"
      ],
      "metadata": {
        "id": "eijKoz1RjlR5"
      },
      "execution_count": null,
      "outputs": []
    },
    {
      "cell_type": "markdown",
      "source": [
        "* いずれも、二つ目のハイパーパラメータの決め方のほうが良い、という結果である。\n",
        "* ということは、二つ目の設定の下での$p(\\mu_s > \\mu_c | \\mathbf{x}_s, \\mathbf{x}_c)$の値を採用するほうが良い、ということだろう。"
      ],
      "metadata": {
        "id": "Bg5qc11jxVUO"
      }
    },
    {
      "cell_type": "markdown",
      "metadata": {
        "id": "wlMXrVgVUCrO"
      },
      "source": [
        "# 課題4\n",
        "* あなたなら、どのように事前分布を決める？\n",
        "* その決め方にしたがって分析をおこない、$p(\\mu_s > \\mu_c | \\mathbf{x}_s, \\mathbf{x}_c)$を、上と同様にして求めよう。\n",
        "* さらに、上の二つのケースと比較してみよう。"
      ]
    },
    {
      "cell_type": "code",
      "metadata": {
        "id": "8fgyObpVTIwk"
      },
      "source": [],
      "execution_count": null,
      "outputs": []
    }
  ]
}