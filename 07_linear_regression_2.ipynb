{
  "nbformat": 4,
  "nbformat_minor": 0,
  "metadata": {
    "colab": {
      "provenance": [],
      "authorship_tag": "ABX9TyNe5+n2J/Y4gvBQ1d2zeY83",
      "include_colab_link": true
    },
    "kernelspec": {
      "name": "python3",
      "display_name": "Python 3"
    },
    "language_info": {
      "name": "python"
    }
  },
  "cells": [
    {
      "cell_type": "markdown",
      "metadata": {
        "id": "view-in-github",
        "colab_type": "text"
      },
      "source": [
        "<a href=\"https://colab.research.google.com/github/tomonari-masada/course2024-stats2/blob/main/07_linear_regression_2.ipynb\" target=\"_parent\"><img src=\"https://colab.research.google.com/assets/colab-badge.svg\" alt=\"Open In Colab\"/></a>"
      ]
    },
    {
      "cell_type": "markdown",
      "metadata": {
        "id": "4LPThopIBKCx"
      },
      "source": [
        "# 階層的ベイズ線形回帰"
      ]
    },
    {
      "cell_type": "markdown",
      "source": [
        "* 参考資料\n",
        "  * https://medium.com/analytics-vidhya/higher-spending-leads-to-poorer-education-a-bayesian-statistics-project-using-rjags-b50b213c6961"
      ],
      "metadata": {
        "id": "ksj6YttjYH-j"
      }
    },
    {
      "cell_type": "markdown",
      "metadata": {
        "id": "onxNhsEXwsw8"
      },
      "source": [
        "## 準備"
      ]
    },
    {
      "cell_type": "code",
      "source": [
        "!pip install numpyro"
      ],
      "metadata": {
        "id": "15OT7u0_HlBb"
      },
      "execution_count": null,
      "outputs": []
    },
    {
      "cell_type": "code",
      "metadata": {
        "id": "H-uy64K0w2xG"
      },
      "source": [
        "import matplotlib.pyplot as plt\n",
        "import numpy as np\n",
        "import pandas as pd\n",
        "import seaborn as sns\n",
        "\n",
        "import jax\n",
        "import jax.numpy as jnp\n",
        "from jax import random\n",
        "import numpyro\n",
        "from numpyro.diagnostics import hpdi\n",
        "import numpyro.distributions as dist\n",
        "from numpyro.infer import NUTS, MCMC, Predictive\n",
        "\n",
        "import arviz as az\n",
        "\n",
        "%config InlineBackend.figure_format = 'retina'\n",
        "\n",
        "plt.style.use(\"bmh\")\n",
        "az.style.use(\"arviz-darkgrid\")\n",
        "\n",
        "rng_key = random.PRNGKey(0)\n",
        "\n",
        "numpyro.set_platform(\"cpu\")"
      ],
      "execution_count": null,
      "outputs": []
    },
    {
      "cell_type": "markdown",
      "metadata": {
        "id": "TOaOTk8Bo44K"
      },
      "source": [
        "## ベイズ線形回帰"
      ]
    },
    {
      "cell_type": "markdown",
      "metadata": {
        "id": "sSJL3J6Rqmo8"
      },
      "source": [
        "### ベイズ推論\n",
        "* やはり、誤差項が正規分布に従うと仮定する。\n",
        "$$ \\epsilon \\sim N(0, \\sigma^2)$$\n",
        "* これを書き直すと\n",
        "$$ Y \\sim N(\\beta^\\top X, \\sigma^2) $$\n",
        "* ベイズ推論を使う場合、$\\beta$や$\\sigma$が従う分布を、事前分布として導入する。\n",
        "* そして、$\\beta$や$\\sigma$が従う事後分布を求める。"
      ]
    },
    {
      "cell_type": "markdown",
      "metadata": {
        "id": "N0OnUDn9g162"
      },
      "source": [
        "## 階層的線形モデル\n",
        "* https://www.pymc.io/projects/docs/en/v3/pymc-examples/examples/generalized_linear_models/GLM.html\n"
      ]
    },
    {
      "cell_type": "markdown",
      "source": [
        "* 重回帰分析を行う。\n",
        "* 係数がどのような分布に従うかの仮定を変えて、分析してみる。\n",
        "  * 正規分布に従うと仮定したモデル。\n",
        "  * t分布に従うと仮定したモデル。\n",
        "* 係数が従う分布のlocationとscaleも、それぞれ特定の分布に従うと仮定する。→**階層モデル**\n",
        "  * 平均パラメータは、正規分布に従うと仮定する。\n",
        "  * 精度パラメータは、ガンマ分布に従うと仮定する。"
      ],
      "metadata": {
        "id": "YPMTJLmfvDje"
      }
    },
    {
      "cell_type": "markdown",
      "metadata": {
        "id": "p7GzvXwvj1Py"
      },
      "source": [
        "### データ\n",
        "* データの説明\n",
        "  * 州の名前\n",
        "  * `spend`: Current expenditure per pupil in average daily attendance in public elementary and secondary schools, 1994-95 (in thousands of dollars)\n",
        "  * `stu_tea_rat`: Average pupil/teacher ratio in public elementary and secondary schools, Fall 1994\n",
        "  * `salary`: Estimated average annual salary of teachers in public elementary and secondary schools, 1994-95 (in thousands of dollars)\n",
        "  * `prcnt_take`: Percentage of all eligible students taking the SAT, 1994-95\n",
        "  * `sat_v`: Average verbal SAT score, 1994-95\n",
        "  * `sat_m`: Average math SAT score, 1994-95\n",
        "  * `sat_t`:\tAverage total score on the SAT, 1994-95\n",
        "* 今回のモデリングにおける目的変数は`sat_t`とする。"
      ]
    },
    {
      "cell_type": "code",
      "metadata": {
        "id": "lYbKXiQKgRNN"
      },
      "source": [
        "!wget https://raw.githubusercontent.com/pymc-devs/pymc-examples/main/examples/data/Guber1999data.txt\n",
        "sat_data = pd.read_csv(\"Guber1999data.txt\")"
      ],
      "execution_count": null,
      "outputs": []
    },
    {
      "cell_type": "code",
      "metadata": {
        "id": "30s0xkPtjyVH"
      },
      "source": [
        "sat_data.head()"
      ],
      "execution_count": null,
      "outputs": []
    },
    {
      "cell_type": "code",
      "metadata": {
        "id": "ZKuoVlCcg8FJ"
      },
      "source": [
        "sat_data.describe()"
      ],
      "execution_count": null,
      "outputs": []
    },
    {
      "cell_type": "code",
      "metadata": {
        "id": "feEmS8OuhHcP"
      },
      "source": [
        "sat_data.info()"
      ],
      "execution_count": null,
      "outputs": []
    },
    {
      "cell_type": "markdown",
      "metadata": {
        "id": "ASq43hjpmN6R"
      },
      "source": [
        "### EDA"
      ]
    },
    {
      "cell_type": "markdown",
      "metadata": {
        "id": "fbUPAWa9X6OZ"
      },
      "source": [
        "* 以下、`sat_v`と`sat_m`は除外する。\n",
        "  * 今回はSATの合計点だけに関心があるので。"
      ]
    },
    {
      "cell_type": "code",
      "source": [
        "sat_data = sat_data.drop(columns=[\"sat_v\", \"sat_m\"])"
      ],
      "metadata": {
        "id": "_vydge34q0PB"
      },
      "execution_count": null,
      "outputs": []
    },
    {
      "cell_type": "code",
      "metadata": {
        "id": "BpVtgwo7XZ_J"
      },
      "source": [
        "sns.pairplot(sat_data);"
      ],
      "execution_count": null,
      "outputs": []
    },
    {
      "cell_type": "markdown",
      "source": [
        "* `spend`と`sat_t`の相関を見てみる。"
      ],
      "metadata": {
        "id": "xKCDMzYx19wd"
      }
    },
    {
      "cell_type": "code",
      "metadata": {
        "id": "UFJlr2X7hJvP"
      },
      "source": [
        "g = sns.relplot(sat_data, x='spend', y='sat_t', hue='prcnt_take')\n",
        "g._legend._loc = 1"
      ],
      "execution_count": null,
      "outputs": []
    },
    {
      "cell_type": "markdown",
      "metadata": {
        "id": "XrjY5q1im1zu"
      },
      "source": [
        "* 一見すると、州がお金を掛けるほど、SATの合計スコアが落ちているように見える。（全体的に右下がりなので。）\n",
        "  * これは直感に反するが・・・\n",
        "* しかし、お金を掛けるほど、受験率も上がっている。（右のほうが色が濃くなっているので。）\n",
        "* ということは、受験率が上がることで、成績が下位の学生も受験することになり、そのため、スコアが落ちているのではないか。\n",
        "* よって、お金を掛けるほどスコアが落ちる、というわけではなさそう。"
      ]
    },
    {
      "cell_type": "markdown",
      "source": [
        "* NumPyroで使いやすいようにデータフレームを辞書に作りかえておく。\n",
        "  * 各カラムの数値の列はJAXの配列に変換する。"
      ],
      "metadata": {
        "id": "JrkLu7RM4O-V"
      }
    },
    {
      "cell_type": "code",
      "source": [
        "kwargs = dict((col, jnp.array(sat_data[col].values)) for col in sat_data.columns)\n",
        "kwargs"
      ],
      "metadata": {
        "id": "FJYjLYkQscIM"
      },
      "execution_count": null,
      "outputs": []
    },
    {
      "cell_type": "markdown",
      "metadata": {
        "id": "iNiktBMaYMAW"
      },
      "source": [
        "### モデル1\n",
        "* 係数が正規分布に従うと仮定する。\n",
        "* この正規分布のパラメータは、定数とする。\n",
        "  * つまり、階層的なモデリングはおこなわない。"
      ]
    },
    {
      "cell_type": "code",
      "source": [
        "def model1(spend=None, stu_tea_rat=None, salary=None, prcnt_take=None, sat_t=None):\n",
        "  grp_mean = 0\n",
        "  grp_sd = 20\n",
        "\n",
        "  intercept = numpyro.sample(\"intercept\", dist.Normal(sat_data.sat_t.mean(), sat_data.sat_t.std()))\n",
        "\n",
        "  coef_spend = numpyro.sample(\"coef_spend\", dist.Normal(grp_mean, grp_sd))\n",
        "  coef_stu_tea_rat = numpyro.sample(\"coef_stu_tea_rat\", dist.Normal(grp_mean, grp_sd))\n",
        "  coef_salary = numpyro.sample(\"coef_salary\", dist.Normal(grp_mean, grp_sd))\n",
        "  coef_prcnt_take = numpyro.sample(\"coef_prcnt_take\", dist.Normal(grp_mean, grp_sd))\n",
        "\n",
        "  sd = numpyro.sample(\"sd\", dist.HalfCauchy(10))\n",
        "\n",
        "  mu = (\n",
        "      intercept\n",
        "      + coef_spend * spend\n",
        "      + coef_stu_tea_rat * stu_tea_rat\n",
        "      + coef_salary * salary\n",
        "      + coef_prcnt_take * prcnt_take\n",
        "      )\n",
        "  numpyro.sample(\"obs\", dist.Normal(mu, sd), obs=sat_t)"
      ],
      "metadata": {
        "id": "dfN1EydSoSUn"
      },
      "execution_count": null,
      "outputs": []
    },
    {
      "cell_type": "code",
      "source": [
        "rng_key, rng_key_ = random.split(rng_key)\n",
        "kernel = NUTS(model1)\n",
        "mcmc = MCMC(kernel, num_warmup=1000, num_samples=2000, num_chains=4)\n",
        "mcmc.run(rng_key_, **kwargs)"
      ],
      "metadata": {
        "id": "Qhl1cTI_9iI0"
      },
      "execution_count": null,
      "outputs": []
    },
    {
      "cell_type": "code",
      "source": [
        "mcmc.print_summary()"
      ],
      "metadata": {
        "id": "U8PcCrwN6ZX8"
      },
      "execution_count": null,
      "outputs": []
    },
    {
      "cell_type": "markdown",
      "source": [
        "* `coef_spend`の`std`がかなり大きいことに注意。\n",
        "  * この点が、[参考資料](https://colab.research.google.com/corgiredirector?site=https%3A%2F%2Fmedium.com%2Fanalytics-vidhya%2Fhigher-spending-leads-to-poorer-education-a-bayesian-statistics-project-using-rjags-b50b213c6961)でも議論されている。\n"
      ],
      "metadata": {
        "id": "NuSunQ0W6d1l"
      }
    },
    {
      "cell_type": "code",
      "source": [
        "(mcmc.get_samples()['coef_spend'] > 0.0).sum() / (mcmc.num_samples * mcmc.num_chains)"
      ],
      "metadata": {
        "id": "a8oDyEtLBrie"
      },
      "execution_count": null,
      "outputs": []
    },
    {
      "cell_type": "code",
      "metadata": {
        "id": "mp6BZtfNiv77"
      },
      "source": [
        "idata1 = az.from_numpyro(mcmc)\n",
        "az.plot_trace(idata1);"
      ],
      "execution_count": null,
      "outputs": []
    },
    {
      "cell_type": "markdown",
      "metadata": {
        "id": "xBPydU5LsU_E"
      },
      "source": [
        "### モデル2\n",
        "* 係数が正規分布に従うと仮定する。\n",
        "* さらに、この正規分布のパラメータに事前分布を導入する。\n",
        "  * つまり、係数について階層的なモデリングをおこなう。"
      ]
    },
    {
      "cell_type": "code",
      "source": [
        "def model2(spend=None, stu_tea_rat=None, salary=None, prcnt_take=None, sat_t=None):\n",
        "  grp_mean = numpyro.sample(\"grp_mean\", dist.Normal(0, 10))\n",
        "  grp_sd = numpyro.sample(\"grp_sd\", dist.HalfCauchy(5))\n",
        "\n",
        "  intercept = numpyro.sample(\"intercept\", dist.Normal(sat_data.sat_t.mean(), sat_data.sat_t.std()))\n",
        "\n",
        "  coef_spend = numpyro.sample(\"coef_spend\", dist.Normal(grp_mean, grp_sd))\n",
        "  coef_stu_tea_rat = numpyro.sample(\"coef_stu_tea_rat\", dist.Normal(grp_mean, grp_sd))\n",
        "  coef_salary = numpyro.sample(\"coef_salary\", dist.Normal(grp_mean, grp_sd))\n",
        "  coef_prcnt_take = numpyro.sample(\"coef_prcnt_take\", dist.Normal(grp_mean, grp_sd))\n",
        "\n",
        "  sd = numpyro.sample(\"sd\", dist.HalfCauchy(10))\n",
        "\n",
        "  mu = (\n",
        "      intercept\n",
        "      + coef_spend * spend\n",
        "      + coef_stu_tea_rat * stu_tea_rat\n",
        "      + coef_salary * salary\n",
        "      + coef_prcnt_take * prcnt_take\n",
        "      )\n",
        "  numpyro.sample(\"obs\", dist.Normal(mu, sd), obs=sat_t)"
      ],
      "metadata": {
        "id": "PR4CO9ge-36j"
      },
      "execution_count": null,
      "outputs": []
    },
    {
      "cell_type": "code",
      "source": [
        "rng_key, rng_key_ = random.split(rng_key)\n",
        "kernel = NUTS(model2)\n",
        "mcmc = MCMC(kernel, num_warmup=1000, num_samples=2000, num_chains=4)\n",
        "mcmc.run(rng_key_, **kwargs)"
      ],
      "metadata": {
        "id": "KyWBLXbmgHHI"
      },
      "execution_count": null,
      "outputs": []
    },
    {
      "cell_type": "code",
      "source": [
        "mcmc.print_summary()"
      ],
      "metadata": {
        "id": "AHKb8hR262WH"
      },
      "execution_count": null,
      "outputs": []
    },
    {
      "cell_type": "markdown",
      "source": [
        "* `coef_spent`の標準偏差が先ほどより小さくなっている。\n",
        "  * 階層的なモデリングでなかったために、大きな値となっていた可能性もある。"
      ],
      "metadata": {
        "id": "kDBgTf8u-K5W"
      }
    },
    {
      "cell_type": "code",
      "source": [
        "(mcmc.get_samples()['coef_spend'] > 0.0).sum() / (mcmc.num_samples * mcmc.num_chains)"
      ],
      "metadata": {
        "id": "gRUpr1jcCH3h"
      },
      "execution_count": null,
      "outputs": []
    },
    {
      "cell_type": "code",
      "source": [
        "idata2 = az.from_numpyro(mcmc)\n",
        "az.plot_trace(idata2);"
      ],
      "metadata": {
        "id": "XEGoNKzC_iZi"
      },
      "execution_count": null,
      "outputs": []
    },
    {
      "cell_type": "code",
      "source": [
        "models = { \"model 1\": idata1, \"model 2\": idata2 }\n",
        "df_compare = az.compare(models)\n",
        "df_compare"
      ],
      "metadata": {
        "id": "1tqs5J8pAS6T"
      },
      "execution_count": null,
      "outputs": []
    },
    {
      "cell_type": "code",
      "source": [
        "az.plot_compare(df_compare);"
      ],
      "metadata": {
        "id": "z8hTWdEsAck9"
      },
      "execution_count": null,
      "outputs": []
    },
    {
      "cell_type": "markdown",
      "source": [
        "* モデル2を採用する方が良さそう。"
      ],
      "metadata": {
        "id": "C_WpZP_w-sdq"
      }
    },
    {
      "cell_type": "markdown",
      "source": [
        "### モデル3\n",
        "* 誤差項がt分布に従うと仮定する。\n",
        "  * そしてこのt分布のパラメータにも事前分布を導入する。"
      ],
      "metadata": {
        "id": "F3GUx-PS4IGT"
      }
    },
    {
      "cell_type": "code",
      "source": [
        "def FoldedStudentT(df, loc=0.0, scale=1.0):\n",
        "  return dist.FoldedDistribution(dist.StudentT(df, loc=loc, scale=scale))"
      ],
      "metadata": {
        "id": "9ZrDATO89Mm0"
      },
      "execution_count": null,
      "outputs": []
    },
    {
      "cell_type": "code",
      "source": [
        "def model3(spend=None, stu_tea_rat=None, salary=None, prcnt_take=None, sat_t=None):\n",
        "  grp_mean = numpyro.sample(\"grp_mean\", dist.Normal(0, 10))\n",
        "  grp_sd = numpyro.sample(\"grp_sd\", dist.HalfCauchy(5))\n",
        "\n",
        "  intercept = numpyro.sample(\"intercept\", dist.Normal(sat_data.sat_t.mean(), sat_data.sat_t.std()))\n",
        "\n",
        "  coef_spend = numpyro.sample(\"coef_spend\", dist.Normal(grp_mean, grp_sd))\n",
        "  coef_stu_tea_rat = numpyro.sample(\"coef_stu_tea_rat\", dist.Normal(grp_mean, grp_sd))\n",
        "  coef_salary = numpyro.sample(\"coef_salary\", dist.Normal(grp_mean, grp_sd))\n",
        "  coef_prcnt_take = numpyro.sample(\"coef_prcnt_take\", dist.Normal(grp_mean, grp_sd))\n",
        "\n",
        "  sigma0 = numpyro.sample(\"sigma0\", dist.HalfCauchy(10))\n",
        "  nu0 = numpyro.sample(\"nu0\", dist.Gamma(2, 0.1))\n",
        "  sd = numpyro.sample(\"sigma\", FoldedStudentT(nu0, scale=sigma0))\n",
        "  nu = numpyro.sample(\"nu\", dist.Gamma(2, 0.1))\n",
        "\n",
        "  mu = (\n",
        "      intercept\n",
        "      + coef_spend * spend\n",
        "      + coef_stu_tea_rat * stu_tea_rat\n",
        "      + coef_salary * salary\n",
        "      + coef_prcnt_take * prcnt_take\n",
        "      )\n",
        "  numpyro.sample(\"obs\", dist.StudentT(nu, mu, sd), obs=sat_t)"
      ],
      "metadata": {
        "id": "Gc5GzTV_351g"
      },
      "execution_count": null,
      "outputs": []
    },
    {
      "cell_type": "code",
      "source": [
        "rng_key, rng_key_ = random.split(rng_key)\n",
        "kernel = NUTS(model2)\n",
        "mcmc = MCMC(kernel, num_warmup=1000, num_samples=2000, num_chains=4)\n",
        "mcmc.run(rng_key_, **kwargs)"
      ],
      "metadata": {
        "id": "npLJWZjK64TT"
      },
      "execution_count": null,
      "outputs": []
    },
    {
      "cell_type": "code",
      "source": [
        "mcmc.print_summary()"
      ],
      "metadata": {
        "id": "B1j0dTQ-9XIb"
      },
      "execution_count": null,
      "outputs": []
    },
    {
      "cell_type": "markdown",
      "source": [
        "* モデル2と大きな違いはなさそう。"
      ],
      "metadata": {
        "id": "kAp8KRawBIr3"
      }
    },
    {
      "cell_type": "code",
      "source": [
        "(mcmc.get_samples()['coef_spend'] > 0.0).sum() / (mcmc.num_samples * mcmc.num_chains)"
      ],
      "metadata": {
        "id": "vRffCOQ9Ceib"
      },
      "execution_count": null,
      "outputs": []
    },
    {
      "cell_type": "code",
      "source": [
        "idata3 = az.from_numpyro(mcmc)\n",
        "az.plot_trace(idata3);"
      ],
      "metadata": {
        "id": "1IiEpXhdSCi2"
      },
      "execution_count": null,
      "outputs": []
    },
    {
      "cell_type": "code",
      "source": [
        "models = { \"model 2\": idata2, \"model 3\": idata3 }\n",
        "df_compare = az.compare(models)\n",
        "df_compare"
      ],
      "metadata": {
        "id": "szqm7Et369UO"
      },
      "execution_count": null,
      "outputs": []
    },
    {
      "cell_type": "code",
      "source": [
        "az.plot_compare(df_compare);"
      ],
      "metadata": {
        "id": "Z3Bd7pCV7QY6"
      },
      "execution_count": null,
      "outputs": []
    },
    {
      "cell_type": "markdown",
      "source": [
        "* モデル2とモデル3の違いはなさそう。\n",
        "  * 目的変数の値に外れ値が含まれる可能性を考える必要はなさそう。"
      ],
      "metadata": {
        "id": "OG-PFEYN_8io"
      }
    },
    {
      "cell_type": "markdown",
      "source": [
        "* 係数の事後分布のpair plotを描いてみる。"
      ],
      "metadata": {
        "id": "RjInfKE-Tozz"
      }
    },
    {
      "cell_type": "code",
      "metadata": {
        "id": "xzjJhYRRCAQr"
      },
      "source": [
        "az.plot_pair(\n",
        "    idata3,\n",
        "    kind=[\"scatter\", \"kde\"],\n",
        "    marginals=True,\n",
        "    point_estimate=\"median\",\n",
        "    figsize=(15, 12),\n",
        "    textsize=12\n",
        ");"
      ],
      "execution_count": null,
      "outputs": []
    },
    {
      "cell_type": "markdown",
      "source": [
        "* 目的変数の値にモデルがうまくフィットしている状態で・・・\n",
        "* `spend`の係数をかなり増やしても、`salary`の係数を相応に減らせば、フィットした状態は維持できる。\n",
        "* 二つの係数をどのように決めればいいかには任意性がある、ということ。"
      ],
      "metadata": {
        "id": "4muHH1uACxPY"
      }
    },
    {
      "cell_type": "code",
      "source": [],
      "metadata": {
        "id": "6TuByhuLGKAW"
      },
      "execution_count": null,
      "outputs": []
    }
  ]
}