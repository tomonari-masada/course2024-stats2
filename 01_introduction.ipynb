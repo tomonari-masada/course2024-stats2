{
  "nbformat": 4,
  "nbformat_minor": 0,
  "metadata": {
    "colab": {
      "provenance": [],
      "authorship_tag": "ABX9TyPY5VhswUHmIVgyh1qT6gEb",
      "include_colab_link": true
    },
    "kernelspec": {
      "name": "python3",
      "display_name": "Python 3"
    }
  },
  "cells": [
    {
      "cell_type": "markdown",
      "metadata": {
        "id": "view-in-github",
        "colab_type": "text"
      },
      "source": [
        "<a href=\"https://colab.research.google.com/github/tomonari-masada/course2024-stats2/blob/main/01_introduction.ipynb\" target=\"_parent\"><img src=\"https://colab.research.google.com/assets/colab-badge.svg\" alt=\"Open In Colab\"/></a>"
      ]
    },
    {
      "cell_type": "markdown",
      "metadata": {
        "id": "MsPVxG3tSFXu"
      },
      "source": [
        "# イントロダクション\n",
        "* **参考書**： キャメロン・デビッドソン=ピロン(著), 玉木徹(訳)『Pythonで体験するベイズ推論:PyMCによるMCMC入門』, 森北出版 (2017)\n",
        " * https://www.amazon.co.jp/dp/4627077912\n",
        "* 今回の授業資料で参考にしたコード（上の和訳の原書の公式リポジトリ）\n",
        " * https://github.com/CamDavidsonPilon/Probabilistic-Programming-and-Bayesian-Methods-for-Hackers/blob/master/Chapter1_Introduction/Ch1_Introduction_PyMC3.ipynb\n"
      ]
    },
    {
      "cell_type": "markdown",
      "source": [
        "* MCMCの実装にはNumPyroというライブラリを使います。\n",
        " * https://num.pyro.ai/"
      ],
      "metadata": {
        "id": "yZo60OYYdbWe"
      }
    },
    {
      "cell_type": "markdown",
      "metadata": {
        "id": "aoWTCSz1I2Lp"
      },
      "source": [
        "## はじめに\n",
        "* 「統計モデリング２」の前半は、MCMCによって事後分布からサンプリングをする方法について説明します。\n",
        " * 後半は、変分ベイズ法によって事後分布を近似的に求める方法について説明します。\n",
        "* 上述の参考書には、ベイズ主義と頻度主義の違いについて最初に書いてありますが、ここでは扱いません。"
      ]
    },
    {
      "cell_type": "markdown",
      "metadata": {
        "id": "Z5O6bxfGTCKG"
      },
      "source": [
        "## ベイズ則の復習"
      ]
    },
    {
      "cell_type": "markdown",
      "metadata": {
        "id": "fReIVY8rXZFk"
      },
      "source": [
        "### ベイズ則\n",
        "\n",
        "* $P(A|X)=\\frac{P(X|A)P(A)}{P(X)}$\n",
        " * 証明には、条件付き確率の定義を使えばよい。\n",
        "\n",
        "* $P(A|X) \\propto P(X|A)P(A)$\n",
        " * こういう書き方をすることもある。"
      ]
    },
    {
      "cell_type": "markdown",
      "metadata": {
        "id": "guft4yLQY6zz"
      },
      "source": [
        "### 例題：司書か農業家か？（参考書より）\n",
        "* スティーブは内向的な性格。彼が司書になりそうだという結論には、多くの人が同意するだろう。\n",
        "* だが、司書と農業家の比率は1:20で、農業家の方が司書より20倍多い。\n"
      ]
    },
    {
      "cell_type": "markdown",
      "metadata": {
        "id": "YBReZkF-pPsI"
      },
      "source": [
        "* スティーブが司書であるという事象を$A$とする。スティーブについて何の情報もなければ、$P(A)=\\frac{1}{21}=0.047$である。\n",
        " * これが事前確率。"
      ]
    },
    {
      "cell_type": "markdown",
      "metadata": {
        "id": "wctGRciTpUF7"
      },
      "source": [
        "* 近所の住人から、彼が内向的だとの情報（この情報を$X$とする）を得た。\n",
        "* この情報が与えられたとき、スティーブが司書である確率は、いくらになるか？\n",
        "* つまり、考えたいのは$P(A|X)$である。\n",
        " * これが事後確率。"
      ]
    },
    {
      "cell_type": "markdown",
      "metadata": {
        "id": "CO1AMrSIpody"
      },
      "source": [
        "* ベイズ則\n",
        "$$P(A|X)=\\frac{P(X|A)P(A)}{P(X)}$$"
      ]
    },
    {
      "cell_type": "markdown",
      "metadata": {
        "id": "6QcuFnViJMBV"
      },
      "source": [
        "\n",
        "* $P(X|A)$について\n",
        " * $P(X|A)$は、スティーブが司書である場合に近所の住人が彼は内向的だと語る確率。これは非常に高いだろう。\n",
        " * そこで、0.95とする。\n",
        "* $P(X)$について\n",
        " * $P(X)=P(X|A)P(A)+P(X|\\neg A)P(\\neg A)$と分解できる。\n",
        " * $P(X|\\neg A)$は、スティーブが農業家である場合に近所の人が彼は内向的だと語る確率。0.5だとしよう。\n",
        " * すると、\n",
        "$P(X)=0.95 \\times \\frac{1}{21} + 0.5 \\times \\frac{20}{21} = 0.52$を得る。\n",
        "\n"
      ]
    },
    {
      "cell_type": "markdown",
      "metadata": {
        "id": "iFSml0fTpvLY"
      },
      "source": [
        "* 以上より、\n",
        "$P(A|X) = \\frac{0.95 \\times \\frac{1}{21}}{0.52} = 0.087$という結果を得る。"
      ]
    },
    {
      "cell_type": "markdown",
      "metadata": {
        "id": "Ix-dcKSn-L9R"
      },
      "source": [
        "* 上の計算を、棒グラフにしてみる。"
      ]
    },
    {
      "cell_type": "code",
      "metadata": {
        "id": "00anzFlnei4_"
      },
      "source": [
        "import numpy as np\n",
        "from matplotlib import pyplot as plt\n",
        "import scipy.stats as stats\n",
        "\n",
        "%config InlineBackend.figure_format = 'retina'"
      ],
      "execution_count": null,
      "outputs": []
    },
    {
      "cell_type": "code",
      "metadata": {
        "id": "gt22X_wQfPFr"
      },
      "source": [
        "plt.figure(figsize=(10, 4))\n",
        "\n",
        "colours = [\"#348ABD\", \"#A60628\"]\n",
        "\n",
        "LEFT = 0.0\n",
        "RIGHT = 0.7\n",
        "WIDTH = 0.25\n",
        "\n",
        "prior = [1/21, 20/21]\n",
        "posterior = [0.087, 1 - 0.087]\n",
        "plt.bar([LEFT, RIGHT], prior, alpha=0.70, width=WIDTH,\n",
        "        color=colours[0], label=\"prior distribution\",\n",
        "        lw=1, edgecolor=colours[0])\n",
        "\n",
        "plt.bar([LEFT+WIDTH, RIGHT+WIDTH], posterior, alpha=0.7,\n",
        "        width=WIDTH, color=colours[1],\n",
        "        label=\"posterior distribution\",\n",
        "        lw=1, edgecolor=colours[1])\n",
        "\n",
        "plt.xticks([LEFT+WIDTH/2, RIGHT+WIDTH/2], [\"Librarian\", \"Farmer\"])\n",
        "plt.title(\"Prior and Posterior probability of Steve's occupation\")\n",
        "plt.ylabel(\"Probability\")\n",
        "plt.legend(loc=\"upper left\");"
      ],
      "execution_count": null,
      "outputs": []
    },
    {
      "cell_type": "markdown",
      "metadata": {
        "id": "S_xfmJxSXgBn"
      },
      "source": [
        "## ベイズ的な統計モデリングにおけるベイズ則の使われ方\n",
        "* ベイズ的なモデリングでは、$A$は確率分布のパラメータ、$X$は観測されたデータである。\n",
        " * $X$はすでに分かっているものである。\n",
        " * $A$は我々が直接知ることができないものである。\n",
        "* 見た目をパラメータっぽくするため、記号として、$A$ではなく$\\theta$を使うことにする。\n",
        " * パラメータの個数は1つとは限らない。通常は、複数個ある。\n"
      ]
    },
    {
      "cell_type": "markdown",
      "metadata": {
        "id": "D4p-FD--y3jh"
      },
      "source": [
        "### ベイズ的モデリングにおけるベイズ則\n",
        "$$P(\\theta|X)=\\frac{P(X|\\theta)P(\\theta)}{P(X)}$$\n",
        " * $P(\\theta)$はモデルのパラメータが従う確率分布で、事前分布(prior distribution)\n",
        " * $P(X|\\theta)$は観測データの尤度(likelihood)\n",
        " * $P(X)$は観測データの周辺尤度(marginal likelihood, evidence)\n",
        "  * これは、規格化定数になっている。\n",
        " * $P(\\theta|X)$もモデルのパラメータが従う確率分布だが、これは事後分布(posterior distribution)\n"
      ]
    },
    {
      "cell_type": "markdown",
      "metadata": {
        "id": "UhtNAbQCy3Hl"
      },
      "source": [
        "### 最尤推定やMAP推定との違い\n",
        "* 観測データのモデルのパラメータ$\\theta$について、それが従う分布を考えるのがベイズ的なモデリングの特徴。\n",
        " * つまり、分布の分布を考えるのがベイズ的なモデリングの特徴。\n",
        "* 最尤推定では、「$P(X|\\theta)$を最大にする$\\theta$は？」という問題を解くことで答えを一つに決める。\n",
        "* MAP推定では、「$P(\\theta|X)$を最大にする$\\theta$は？」という問題を解くことで答えを一つに決める。\n",
        "* ベイズ的なモデリングでは、$\\theta$について、答えとなる値を一つ選ぶのではなく、分布で答える。\n"
      ]
    },
    {
      "cell_type": "markdown",
      "metadata": {
        "id": "p5Uv9faYBpZ4"
      },
      "source": [
        "* ベイズ的なモデリングでは、特定の観測データ集合$X$が与えられたときに、パラメータ$\\theta$が取りうるあらゆる値について、それぞれの値を取ることがどのくらいありえそうかを求める。\n",
        " * つまり、事後分布$P(\\theta|X)$を求める。"
      ]
    },
    {
      "cell_type": "markdown",
      "metadata": {
        "id": "TmdmMaLpiJjS"
      },
      "source": [
        "### 例題：「コイン投げ」問題\n",
        "* 表が出た回数のモデリングには二項分布を使う。\n",
        " * これが$P(X|\\theta)$に相当する。\n",
        "* 二項分布のパラメータが従う分布としては、二項分布の共役事前分布であるベータ分布を使う。\n",
        " * これが$P(\\theta)$に相当する。\n",
        "* 求めたいのは、観測データが与えられているという条件の下で、表が出る確率が従う分布\n",
        " * これが$P(\\theta|X)$に相当する。"
      ]
    },
    {
      "cell_type": "markdown",
      "metadata": {
        "id": "kjru7FmVCIbS"
      },
      "source": [
        "* 共役事前分布を使う場合は、解析的に事後分布を計算できる。\n",
        " * 二項分布にとっては、ベータ分布が共役事前分布。\n",
        " * ここでは、解析的に求めた事後分布の密度関数を、単にグラフで描いているだけ。"
      ]
    },
    {
      "cell_type": "code",
      "metadata": {
        "id": "exriaLgphf4A"
      },
      "source": [
        "plt.figure(figsize=(10, 15))\n",
        "\n",
        "n_trials = [0, 1, 2, 3, 4, 5, 8, 15, 50, 500] # 試行回数\n",
        "\n",
        "# 観測データを作る（表が出る確率0.5でコインをsize回投げておく）\n",
        "data = stats.bernoulli.rvs(0.5, size=n_trials[-1])\n",
        "\n",
        "x = np.linspace(0, 1, 100)\n",
        "\n",
        "# 二項分布にとって共役な事前分布であるベータ分布を使っている\n",
        "for k, N in enumerate(n_trials):\n",
        "  sx = plt.subplot(len(n_trials) // 2, 2, k + 1)\n",
        "  plt.xlabel(\"probability of heads\")\n",
        "  # 観測データの最初のN個だけを事後分布のパラメータの計算に反映させる\n",
        "  heads = data[:N].sum()\n",
        "  # ベータ分布の確率密度関数を作る\n",
        "  y = stats.beta.pdf(x, 1 + heads, 1 + N - heads)\n",
        "  # 密度関数の描画\n",
        "  plt.plot(x, y, label=\"observe %d tosses,\\n %d heads\" % (N, heads))\n",
        "  plt.fill_between(x, 0, y, color=\"#348ABD\", alpha=0.4)\n",
        "  plt.vlines(0.5, 0, 4, color=\"k\", linestyles=\"--\", lw=1)\n",
        "\n",
        "  leg = plt.legend()\n",
        "  leg.get_frame().set_alpha(0.4)\n",
        "  plt.autoscale(tight=True)\n",
        "\n",
        "plt.suptitle(\"Bayesian updating of posterior probabilities\", fontsize=14)\n",
        "plt.tight_layout();"
      ],
      "execution_count": null,
      "outputs": []
    },
    {
      "cell_type": "markdown",
      "metadata": {
        "id": "PU00rtuM-qN8"
      },
      "source": [
        "## MCMCを使うと何ができるのか\n",
        "$$P(\\theta|X)=\\frac{P(X|\\theta)P(\\theta)}{P(X)}$$\n",
        "* $P(X)$は、規格化のために必要。"
      ]
    },
    {
      "cell_type": "markdown",
      "metadata": {
        "id": "SkyWEvfRrE5Q"
      },
      "source": [
        "### ベイズ的モデリングで、すでに分かっていること\n",
        "* 尤度関数$P(X|\\theta)$は、我々が決めるものである。\n",
        " * データがそれに従うと仮定した分布の、確率質量関数や確率密度関数が分かっていれば、ちゃんと式で書ける。\n",
        "* 事前分布$P(\\theta)$も、我々が決めるものである。\n",
        " * 事前分布として使うことに決めた分布の、確率質量関数や確率密度関数が分かっていれば、ちゃんと式で書ける。\n",
        "* ということは、$P(X|\\theta)P(\\theta)$の部分がどういう式になるかは、すでに分かっている。"
      ]
    },
    {
      "cell_type": "markdown",
      "metadata": {
        "id": "dGWkGWRDq_qn"
      },
      "source": [
        "### ベイズ的モデリングで、まだ分かっていないこと\n",
        "* 周辺尤度$P(X)$は、$P(X) = \\int P(X|\\theta)P(\\theta)d\\theta$という等式を満たす。\n",
        "* だが、ほとんどの場合、$P(X)$を閉じた式で書き下すことはできない。\n",
        "* ということは、事後分布$P(\\theta|X)$の密度関数を閉じた式として書き下すことも、ほとんどの場合、できない。\n",
        " * $P(\\theta|X)$を求める計算が、$P(X)$で割る、という計算を含むから。\n",
        " * 共役事前分布を使う場合は、例外的に、事後分布$P(\\theta|X)$の密度関数を閉じた式として書き下せる。\n"
      ]
    },
    {
      "cell_type": "markdown",
      "metadata": {
        "id": "8ri5s61KtFA8"
      },
      "source": [
        "### MCMCを使うと何ができるようになるか\n",
        "* MCMCを使うと、$P(X)$が計算できなくても、$P(X|\\theta)P(\\theta)$さえ分かっていれば、$P(\\theta|X)$からサンプリングできる。\n",
        "* 事後分布が$\\theta$の何らかの関数$f(\\theta)$に比例するということ、つまり$P(\\theta|X) \\propto f(\\theta)\n",
        " $ということさえ分かっていればよい。\n",
        " * 言い換えれば、事後分布の規格化定数が分かっていなくてもよい。\n",
        "* そして、$P(X|\\theta)P(\\theta)$がどういう式になるかは、上述のように、普通はすでに分かっている。"
      ]
    },
    {
      "cell_type": "markdown",
      "source": [
        "\n",
        "\n",
        "---\n",
        "\n"
      ],
      "metadata": {
        "id": "hXO0xAYy3PnD"
      }
    },
    {
      "cell_type": "markdown",
      "metadata": {
        "id": "-9OUI0X6eztz"
      },
      "source": [
        "## 様々な確率分布：離散分布\n",
        "* ベイズ的なデータモデリングを行うためには、様々な確率分布についての知識が必要。\n",
        "* データに合わせて、また、データをモデル化する分布に合わせて、適切な分布を選ぶ。"
      ]
    },
    {
      "cell_type": "markdown",
      "metadata": {
        "id": "V0cbE_ChATO-"
      },
      "source": [
        "### 離散分布とは\n",
        "* 確率変数$Z$のとる値が離散値の場合に$Z$が従う分布。\n",
        "* 確率変数$Z$が特定の値をとる確率は、確率質量関数(pmf; probability mass function)によって与えられる。\n"
      ]
    },
    {
      "cell_type": "markdown",
      "metadata": {
        "id": "IOzYQrJ5BWUm"
      },
      "source": [
        "### ポアソン分布\n",
        "$$P(Z = k; \\lambda) =\\frac{ \\lambda^k e^{-\\lambda} }{k!}, \\; \\; k=0,1,2, \\dots $$\n",
        " * 確率変数$Z$がパラメータ$\\lambda$のポアソン分布に従うことを、以下のように書く。\n",
        "$$ Z \\sim \\text{Poi}(\\lambda)$$\n",
        " * $Z$の期待値は$\\lambda$になる。つまり、\n",
        "$$\\mathbb{E}_{P(Z;\\lambda)}[Z] = \\sum_{k=0}^\\infty \\bigg( k \\frac{ \\lambda^k e^{-\\lambda} }{k!} \\bigg) = \\lambda$$\n"
      ]
    },
    {
      "cell_type": "markdown",
      "metadata": {
        "id": "d6nUUtVsC1fH"
      },
      "source": [
        "* ポアソン分布の確率質量関数を棒グラフで描いてみる。"
      ]
    },
    {
      "cell_type": "code",
      "metadata": {
        "id": "6f4vD7oiAI5E"
      },
      "source": [
        "plt.figure(figsize=(12.5, 4))\n",
        "\n",
        "a = np.arange(16)\n",
        "poi = stats.poisson # ポアソン分布\n",
        "lambda_ = [1.5, 4.25] # パラメータλについて2通りの設定を考える\n",
        "colours = [\"#348ABD\", \"#A60628\"]\n",
        "\n",
        "plt.bar(a, poi.pmf(a, lambda_[0]), color=colours[0],\n",
        "        label=\"$\\lambda = %.1f$\" % lambda_[0], alpha=0.60,\n",
        "        edgecolor=colours[0], lw=1)\n",
        "\n",
        "plt.bar(a, poi.pmf(a, lambda_[1]), color=colours[1],\n",
        "        label=\"$\\lambda = %.1f$\" % lambda_[1], alpha=0.60,\n",
        "        edgecolor=colours[1], lw=1)\n",
        "\n",
        "plt.xticks(a + 0.4, a)\n",
        "plt.legend()\n",
        "plt.ylabel(\"probability of $k$\")\n",
        "plt.xlabel(\"$k$\")\n",
        "plt.title(\"Probability mass function of a Poisson random variable; differing $\\lambda$ values\");"
      ],
      "execution_count": null,
      "outputs": []
    },
    {
      "cell_type": "markdown",
      "metadata": {
        "id": "TIJwpnOYC7V9"
      },
      "source": [
        "### 連続分布とは\n",
        "* 確率変数$Z$のとる値が連続値の場合。\n",
        "* 連続な確率分布は、確率密度関数(pdf; probability density function)で表される。"
      ]
    },
    {
      "cell_type": "markdown",
      "metadata": {
        "id": "jNKO0pcytzef"
      },
      "source": [
        "### 指数分布\n",
        "$$ f_Z(z; \\lambda) = \\lambda e^{ - \\lambda z}, \\; \\; z \\geq 0$$\n",
        " * 確率変数$Z$の特定の実現値$z$について、密度関数の値$f_Z(z|\\lambda)$は、$Z=z$となる確率を表すのではないことに注意！\n",
        " * $Z$がパラメータ$\\lambda$の指数分布に従うことを、以下のように書く。\n",
        "$$ Z \\sim \\text{Exp}(\\lambda) $$\n",
        " * $Z$の期待値は$\\frac{1}{\\lambda}$となる。つまり、\n",
        "$$ \\mathbb{E}_{f_Z(z;\\lambda)}[Z] = \\int_0^\\infty z \\lambda e^{ - \\lambda z} dz = \\frac{1}{\\lambda}$$"
      ]
    },
    {
      "cell_type": "markdown",
      "metadata": {
        "id": "TfV6s9iQC7vL"
      },
      "source": [
        "* 指数分布の確率密度関数をグラフで描いてみる。"
      ]
    },
    {
      "cell_type": "code",
      "metadata": {
        "id": "W546V1XJCzZe"
      },
      "source": [
        "plt.figure(figsize=(12.5, 4))\n",
        "\n",
        "a = np.linspace(0, 4, 100)\n",
        "expo = stats.expon # 指数分布\n",
        "lambda_ = [0.5, 1] # パラメータλについて2通りの設定を考える\n",
        "\n",
        "for l, c in zip(lambda_, colours):\n",
        "  scale = 1 / l\n",
        "  plt.plot(a, expo.pdf(a, scale=scale), lw=3,\n",
        "           color=c, label=\"$\\lambda = %.1f$\" % l)\n",
        "  plt.fill_between(a, expo.pdf(a, scale=scale), color=c, alpha=.33)\n",
        "\n",
        "plt.legend()\n",
        "plt.ylabel(\"PDF at $z$\")\n",
        "plt.xlabel(\"$z$\")\n",
        "plt.ylim(0,1.2)\n",
        "plt.title(\"Probability density function of an Exponential random variable; differing $\\lambda$\");"
      ],
      "execution_count": null,
      "outputs": []
    },
    {
      "cell_type": "markdown",
      "metadata": {
        "id": "D1eheKi2JthC"
      },
      "source": [
        "## 計算機にベイズ推論をさせるには？\n",
        "* 今回は、天下り式に、MCMCによる事後分布からのサンプリングの例を示す。\n",
        " * ですので、今日はよく意味が分からなくてもいいです。\n",
        " * 今回のサンプルコードの意味が分かるのは、おそらく数回後になってから。"
      ]
    },
    {
      "cell_type": "markdown",
      "metadata": {
        "id": "vxo7kpGHHy1W"
      },
      "source": [
        "### 例題：メッセージ数に変化はあるか？（参考書より）\n",
        "* あるユーザが毎日受信するメッセージ数をモデリングする。\n",
        " * 参考書のデータをそのまま使う。\n",
        " * 73件の実数値データ。実際には全て整数になっている。"
      ]
    },
    {
      "cell_type": "code",
      "metadata": {
        "id": "B9a8wWzdHXcB"
      },
      "source": [
        "!wget \"https://raw.githubusercontent.com/CamDavidsonPilon/Probabilistic-Programming-and-Bayesian-Methods-for-Hackers/master/Chapter1_Introduction/data/txtdata.csv\""
      ],
      "execution_count": null,
      "outputs": []
    },
    {
      "cell_type": "markdown",
      "metadata": {
        "id": "vsDXrREmIWtx"
      },
      "source": [
        "* 知りたいのは、時間が経つにつれて受信数が変化しているかどうか。\n",
        "* 受信数をどのようにモデリングすれば良いだろうか？"
      ]
    },
    {
      "cell_type": "markdown",
      "metadata": {
        "id": "9syTDVNru7yb"
      },
      "source": [
        "* まずは受信数の変化を可視化する。"
      ]
    },
    {
      "cell_type": "code",
      "metadata": {
        "id": "0lFo_KTFHOML"
      },
      "source": [
        "PATH = 'txtdata.csv'\n",
        "\n",
        "plt.figure(figsize=(12.5, 4))\n",
        "\n",
        "count_data = np.loadtxt(PATH)\n",
        "n_count_data = len(count_data)\n",
        "plt.bar(np.arange(n_count_data), count_data, color=\"#348ABD\")\n",
        "plt.xlabel(\"Time (days)\")\n",
        "plt.ylabel(\"count of text-msgs received\")\n",
        "plt.title(\"Did the user's texting habits change over time?\")\n",
        "plt.xlim(0, n_count_data);"
      ],
      "execution_count": null,
      "outputs": []
    },
    {
      "cell_type": "markdown",
      "metadata": {
        "id": "CJ3C58aPIv4D"
      },
      "source": [
        "* 見た感じ、時間軸の真ん中あたりを境に、後半は受信数が多めに見える。\n",
        "* そこで、ある変化点$\\tau$を境に受信数が異なる分布に従う、と仮定する。\n",
        " * $\\tau$より前は、パラメータが$\\lambda_1$のポアソン分布に従い、\n",
        " * $\\tau$以後は、パラメータが$\\lambda_2$のポアソン分布に従うと仮定する。\n",
        "$$ X_t \\sim \\text{Poi}(\\lambda_1) \\; \\; \\text{ if $t < \\tau$ } $$\n",
        "$$ X_t \\sim \\text{Poi}(\\lambda_2) \\; \\; \\text{ if $t \\geq \\tau$ } $$"
      ]
    },
    {
      "cell_type": "markdown",
      "metadata": {
        "id": "g2gJR2LDKn0b"
      },
      "source": [
        "* $\\lambda_1$と$\\lambda_2$は、同じ事前分布に従うと仮定する。\n",
        " * いずれも、パラメータが$\\alpha$の指数分布に従うと仮定する。\n",
        "$$ \\lambda_1 \\sim \\text{Exp}(\\alpha) $$\n",
        "$$ \\lambda_2 \\sim \\text{Exp}(\\alpha) $$\n"
      ]
    },
    {
      "cell_type": "markdown",
      "metadata": {
        "id": "cbphnQC3LhLi"
      },
      "source": [
        "* 境界となる時点$\\tau$については、考えている時間軸の範囲のどの位置になるかが等確率であると仮定する。\n",
        " * 考えている時間軸の範囲にある時点の個数を$N$とする。\n",
        " * $\\tau$は、以下の確率質量関数を持つ一様分布に従うと仮定する。\n",
        "$$ P(\\tau = k) = \\frac{1}{N} \\;\\; \\text{ for $k = 1,\\ldots, N$ } $$"
      ]
    },
    {
      "cell_type": "markdown",
      "metadata": {
        "id": "3Dc-pc2GML2Q"
      },
      "source": [
        "* 以上でデータのモデルは決まった。\n",
        "* このモデルを「データにフィットさせ」、$\\lambda_1$や$\\lambda_2$の事後分布や、変化点$\\tau$の事後分布を求めるには、どうすればいいか？\n",
        " * これを分かるようになるのが、「統計モデリング2」の前半の目標。\n",
        " * ライブラリとしては、NumPyroを使うことにする。"
      ]
    },
    {
      "cell_type": "markdown",
      "metadata": {
        "id": "xr-lVgx0M-VX"
      },
      "source": [
        "### NumPyro\n",
        "* ここからの説明は、今日のところは、なんとなく聞くだけで良いです。\n",
        "* 参考にしたブログ記事\n",
        " * https://www.hellocybernetics.tech/entry/2020/09/09/093000"
      ]
    },
    {
      "cell_type": "markdown",
      "metadata": {
        "id": "NHYIwMNOewfm"
      },
      "source": [
        "* 可視化ツールArviZのインストール (https://python.arviz.org/)\n",
        " * Google Colabでは、\"Requirement already satisfied\"と出てくるはず。"
      ]
    },
    {
      "cell_type": "code",
      "metadata": {
        "id": "7CLMewx2cNx1"
      },
      "source": [
        "!pip install arviz"
      ],
      "execution_count": null,
      "outputs": []
    },
    {
      "cell_type": "markdown",
      "metadata": {
        "id": "JFaObmCMwFGs"
      },
      "source": [
        "* NumPyroのインストール\n",
        "  * https://num.pyro.ai/"
      ]
    },
    {
      "cell_type": "code",
      "source": [
        "!pip install numpyro"
      ],
      "metadata": {
        "id": "4fNNNZ9KWdHI"
      },
      "execution_count": null,
      "outputs": []
    },
    {
      "cell_type": "markdown",
      "source": [
        "* ソースからインストールする場合"
      ],
      "metadata": {
        "id": "L9SsIadQ7M-v"
      }
    },
    {
      "cell_type": "code",
      "metadata": {
        "id": "CYVHENt-d7Hd"
      },
      "source": [
        "#!pip install git+https://github.com/pyro-ppl/numpyro.git"
      ],
      "execution_count": null,
      "outputs": []
    },
    {
      "cell_type": "markdown",
      "metadata": {
        "id": "hY8wG8YgDk5V"
      },
      "source": [
        "* NumPyroその他をインポート。\n",
        " * 今回は、GPUは使わないようNumPyroを設定する。"
      ]
    },
    {
      "cell_type": "code",
      "metadata": {
        "id": "rdsyxo7NNJSi"
      },
      "source": [
        "import jax.numpy as jnp\n",
        "from jax import random\n",
        "import numpyro\n",
        "import numpyro.distributions as dist\n",
        "from numpyro.infer import MCMC, NUTS\n",
        "import arviz as az\n",
        "\n",
        "az.style.use(\"arviz-darkgrid\")\n",
        "numpyro.set_platform(\"cpu\")\n",
        "\n",
        "# JAXでは乱数の扱いが特殊\n",
        "rng_key = random.PRNGKey(0)"
      ],
      "execution_count": null,
      "outputs": []
    },
    {
      "cell_type": "markdown",
      "source": [
        "* NumPyroでは、数値計算の部分でJAXを多用する。\n",
        " * JAXについては、当面は、「GPUが使えるNumPy」ぐらいの理解でOK。"
      ],
      "metadata": {
        "id": "ymc71P6mwTn1"
      }
    },
    {
      "cell_type": "markdown",
      "metadata": {
        "id": "DYZf-dpPDsLM"
      },
      "source": [
        "* NumPyroでは、モデルを関数として定義する。\n",
        " * 事前分布$\\text{Exp}(\\alpha)$の$\\alpha$の設定の仕方に注意。\n",
        " * 変化点$\\tau$より前か後かによって$\\lambda_1$か$\\lambda_2$が入っている配列を用意している。"
      ]
    },
    {
      "cell_type": "code",
      "metadata": {
        "id": "H2zM1HHNNS-V"
      },
      "source": [
        "def model(data):\n",
        "  n_data = len(data)\n",
        "\n",
        "  alpha = 1.0 / data.mean() # 受信数の平均の逆数（なぜこのように設定するかについては参考書を参照）\n",
        "  lambda_1 = numpyro.sample(\"lambda_1\", dist.Exponential(rate=alpha))\n",
        "  lambda_2 = numpyro.sample(\"lambda_2\", dist.Exponential(rate=alpha))\n",
        "\n",
        "  tau = numpyro.sample(\"tau\", dist.Uniform(low=0, high=n_data))\n",
        "\n",
        "  idx = jnp.arange(n_data) # Index\n",
        "  with numpyro.plate(\"data_plate\", n_data):\n",
        "    lambda_ = numpyro.deterministic(\"lambda_\", jnp.where(tau > idx, lambda_1, lambda_2))\n",
        "  numpyro.sample(\"obs\", dist.Poisson(rate=lambda_), obs=data)"
      ],
      "execution_count": null,
      "outputs": []
    },
    {
      "cell_type": "markdown",
      "source": [
        "* モデルのレンダリング"
      ],
      "metadata": {
        "id": "9obm5LJMymJp"
      }
    },
    {
      "cell_type": "code",
      "source": [
        "numpyro.render_model(model, model_args=(count_data,))"
      ],
      "metadata": {
        "id": "KQPx75EnxE10"
      },
      "execution_count": null,
      "outputs": []
    },
    {
      "cell_type": "markdown",
      "metadata": {
        "id": "nAWQDETYEQHR"
      },
      "source": [
        "* デフォルトの設定を使って、事後分布からサンプルを得る。"
      ]
    },
    {
      "cell_type": "code",
      "metadata": {
        "id": "gEYAFvShPo3i"
      },
      "source": [
        "rng_key, rng_key_ = random.split(rng_key)\n",
        "\n",
        "kernel = NUTS(model)\n",
        "sample_kwargs = dict(\n",
        "    sampler=kernel, num_warmup=1000, num_samples=1000, num_chains=2, chain_method=\"parallel\"\n",
        ")\n",
        "mcmc = MCMC(**sample_kwargs)\n",
        "mcmc.run(rng_key_, data=count_data)"
      ],
      "execution_count": null,
      "outputs": []
    },
    {
      "cell_type": "markdown",
      "source": [
        "* 事後分布に関する統計量を表示させてみる。"
      ],
      "metadata": {
        "id": "LTruObVYSDs4"
      }
    },
    {
      "cell_type": "code",
      "source": [
        "mcmc.print_summary()"
      ],
      "metadata": {
        "id": "vm2gQ4xKPvix"
      },
      "execution_count": null,
      "outputs": []
    },
    {
      "cell_type": "markdown",
      "source": [
        "* サンプルをじかに見てみる。"
      ],
      "metadata": {
        "id": "UOVIm3QG0sQH"
      }
    },
    {
      "cell_type": "code",
      "source": [
        "samples = mcmc.get_samples()\n",
        "samples"
      ],
      "metadata": {
        "id": "GeT1WWkxzlY8"
      },
      "execution_count": null,
      "outputs": []
    },
    {
      "cell_type": "markdown",
      "source": [
        "* 確率変数`lambda_1`について、最初の5つのサンプルを見てみる。"
      ],
      "metadata": {
        "id": "afRy-QdJRlJ9"
      }
    },
    {
      "cell_type": "code",
      "source": [
        "samples[\"lambda_1\"][:5]"
      ],
      "metadata": {
        "id": "z1x-mZFdRZz4"
      },
      "execution_count": null,
      "outputs": []
    },
    {
      "cell_type": "markdown",
      "metadata": {
        "id": "8U6Qvan9ExxO"
      },
      "source": [
        "* サンプルをArviZで可視化するため、データのフォーマットを変換する。"
      ]
    },
    {
      "cell_type": "code",
      "source": [
        "numpyro_data = az.from_numpyro(mcmc)"
      ],
      "metadata": {
        "id": "ViMX--DD2JPG"
      },
      "execution_count": null,
      "outputs": []
    },
    {
      "cell_type": "code",
      "source": [
        "numpyro_data"
      ],
      "metadata": {
        "id": "b6AF3YCJ49EK"
      },
      "execution_count": null,
      "outputs": []
    },
    {
      "cell_type": "markdown",
      "source": [
        "* ArviZで、事後分布からのサンプルの様子を見てみる。\n",
        " * どのモデルパラメータの事後分布を描画するか、`var_names`で指定している。\n",
        " * `arviz.plot_trace()`の使い方については、下記ブログ記事も参照。\n",
        " * https://oriolabrilpla.cat/en/blog/posts/2020/plot-trace.html"
      ],
      "metadata": {
        "id": "an5laoyi7G__"
      }
    },
    {
      "cell_type": "code",
      "source": [
        "var_names = [\"lambda_1\", \"lambda_2\", \"tau\"]\n",
        "az.plot_trace(numpyro_data, var_names=var_names);"
      ],
      "metadata": {
        "id": "AYjIYMErRDOb"
      },
      "execution_count": null,
      "outputs": []
    },
    {
      "cell_type": "markdown",
      "source": [
        "* サンプルの統計量を見てみる。\n",
        " * NumPyroの`print_summary()`と、ちょっと違う。"
      ],
      "metadata": {
        "id": "r03vzzsP0dsK"
      }
    },
    {
      "cell_type": "code",
      "source": [
        "az.summary(numpyro_data, var_names=var_names)"
      ],
      "metadata": {
        "id": "216nYx_eSAyM"
      },
      "execution_count": null,
      "outputs": []
    },
    {
      "cell_type": "markdown",
      "metadata": {
        "id": "P2MaJG6rIGQL"
      },
      "source": [
        "* mcse = Markov Chain standard error\n",
        "* ess = effective sample size\n",
        "* これらの概念については、下記を参照。\n",
        " * https://mc-stan.org/docs/reference-manual/effective-sample-size.html\n",
        " * https://mc-stan.org/posterior/reference/index.html#summarizing-and-diagnosing-draws-objects"
      ]
    },
    {
      "cell_type": "markdown",
      "metadata": {
        "id": "n-JqOj5Pxpzm"
      },
      "source": [
        "* MCMCに関して、分からない言葉が出てきたら、Stanのマニュアルを読むと良いです。\n",
        " * https://mc-stan.org/docs/reference-manual/index.html\n",
        " * https://mc-stan.org/posterior/reference/index.html"
      ]
    },
    {
      "cell_type": "markdown",
      "source": [
        "* 以下、ArviZを使わずに、可視化してみる。"
      ],
      "metadata": {
        "id": "5wc0vBEIUX25"
      }
    },
    {
      "cell_type": "markdown",
      "source": [
        "* まず、複数あるchainを一つにまとめる。\n",
        " * 関数`arviz.extract_dataset`を使う。"
      ],
      "metadata": {
        "id": "tIfIS9nyWZ9i"
      }
    },
    {
      "cell_type": "code",
      "source": [
        "stacked = az.extract_dataset(numpyro_data)\n",
        "lambda_1_samples = stacked['lambda_1']\n",
        "lambda_2_samples = stacked['lambda_2']\n",
        "tau_samples = stacked['tau']"
      ],
      "metadata": {
        "id": "eMOZ0oO_WJ8P"
      },
      "execution_count": null,
      "outputs": []
    },
    {
      "cell_type": "markdown",
      "source": [
        "* そして、参考書のリポジトリのコードを利用する。\n",
        " * https://github.com/CamDavidsonPilon/Probabilistic-Programming-and-Bayesian-Methods-for-Hackers/blob/master/Chapter1_Introduction/Ch1_Introduction_PyMC3.ipynb"
      ],
      "metadata": {
        "id": "Ot9WIs2nWzCt"
      }
    },
    {
      "cell_type": "code",
      "metadata": {
        "id": "CL8rLmTvP3Q9"
      },
      "source": [
        "plt.figure(figsize=(8, 8))\n",
        "\n",
        "ax = plt.subplot(311)\n",
        "ax.set_autoscaley_on(False)\n",
        "plt.hist(lambda_1_samples, histtype='stepfilled', bins=30, alpha=0.85,\n",
        "         label=\"posterior of $\\lambda_1$\", color=\"#A60628\", density=True)\n",
        "plt.legend(loc=\"upper left\")\n",
        "plt.title(r\"\"\"Posterior distributions of the variables $\\lambda_1,\\;\\lambda_2,\\;\\tau$\"\"\")\n",
        "plt.xlim([15, 30])\n",
        "plt.xlabel(\"$\\lambda_1$ value\")\n",
        "\n",
        "ax = plt.subplot(312)\n",
        "ax.set_autoscaley_on(False)\n",
        "plt.hist(lambda_2_samples, histtype='stepfilled', bins=30, alpha=0.85,\n",
        "         label=\"posterior of $\\lambda_2$\", color=\"#7A68A6\", density=True)\n",
        "plt.legend(loc=\"upper left\")\n",
        "plt.xlim([15, 30])\n",
        "plt.xlabel(\"$\\lambda_2$ value\")\n",
        "\n",
        "plt.subplot(313)\n",
        "weights = 1.0 / tau_samples.shape[0] * np.ones_like(tau_samples)\n",
        "plt.hist(tau_samples, bins=n_count_data, alpha=1,\n",
        "         label=r\"posterior of $\\tau$\",\n",
        "         color=\"#467821\", weights=weights, rwidth=2)\n",
        "plt.xticks(np.arange(n_count_data))\n",
        "\n",
        "plt.legend(loc=\"upper left\")\n",
        "plt.xlim([35, len(count_data)-20])\n",
        "plt.xlabel(r\"$\\tau$ (in days)\")\n",
        "plt.ylabel(\"probability\");"
      ],
      "execution_count": null,
      "outputs": []
    },
    {
      "cell_type": "markdown",
      "metadata": {
        "id": "fs44OkpTE_Uq"
      },
      "source": [
        "* 変化点を、元の受信数のグラフに重ねて描いてみる。\n",
        " * 変化点の前後で、MCMCによって推定された平均受信数が変化しているのがわかる。"
      ]
    },
    {
      "cell_type": "code",
      "metadata": {
        "id": "pvDxjtK1QcRW"
      },
      "source": [
        "plt.figure(figsize=(10, 4))\n",
        "\n",
        "# tau_samples, lambda_1_samples, lambda_2_samples は\n",
        "# それぞれ対応する事後分布からのN個のサンプルを含んでいる。\n",
        "N = tau_samples.shape[0]\n",
        "\n",
        "expected_texts_per_day = np.zeros(n_count_data)\n",
        "for day in range(n_count_data):\n",
        "  # ix is a bool index of all tau samples corresponding to\n",
        "  # the switchpoint occurring prior to value of 'day'\n",
        "  ix = day < tau_samples\n",
        "  # Each posterior sample corresponds to a value for tau.\n",
        "  # for each day, that value of tau indicates whether we're \"before\"\n",
        "  # (in the lambda1 \"regime\") or\n",
        "  #  \"after\" (in the lambda2 \"regime\") the switchpoint.\n",
        "  # by taking the posterior sample of lambda1/2 accordingly, we can average\n",
        "  # over all samples to get an expected value for lambda on that day.\n",
        "  # As explained, the \"message count\" random variable is Poisson distributed,\n",
        "  # and therefore lambda (the poisson parameter) is the expected value of\n",
        "  # \"message count\".\n",
        "  expected_texts_per_day[day] = (lambda_1_samples[ix].sum()\n",
        "                                   + lambda_2_samples[~ix].sum()) / N\n",
        "\n",
        "\n",
        "plt.plot(range(n_count_data), expected_texts_per_day, lw=2, color=\"#E24A33\",\n",
        "         label=\"expected number of text-messages received\")\n",
        "plt.xlim(0, n_count_data)\n",
        "plt.xlabel(\"Day\")\n",
        "plt.ylabel(\"Expected # text-messages\")\n",
        "plt.title(\"Expected number of text-messages received\")\n",
        "plt.bar(np.arange(len(count_data)), count_data, color=\"#348ABD\", alpha=0.65,\n",
        "        label=\"observed texts per day\")\n",
        "\n",
        "plt.legend(loc=\"upper left\");"
      ],
      "execution_count": null,
      "outputs": []
    },
    {
      "cell_type": "markdown",
      "metadata": {
        "id": "k8PfdcZbEeUG"
      },
      "source": [
        "## 課題1\n",
        "* ポアソン分布$\\text{Poi}(\\lambda)$に従う確率変数の期待値が$\\lambda$になることを示せ。\n",
        "* 指数分布$\\text{Exp}(\\alpha)$に従う確率変数の期待値が$\\frac{1}{\\alpha}$になることを示せ。\n",
        " * 分からない場合は、ググって調べましょう。\n",
        " * 計算問題なので、手書きの紙の写真、またはWordやLaTeXのPDFを提出してください。"
      ]
    },
    {
      "cell_type": "code",
      "source": [],
      "metadata": {
        "id": "YrjABBVoPjFE"
      },
      "execution_count": null,
      "outputs": []
    }
  ]
}